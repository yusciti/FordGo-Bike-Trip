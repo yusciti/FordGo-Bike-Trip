{
 "cells": [
  {
   "cell_type": "markdown",
   "id": "06e4939e",
   "metadata": {},
   "source": [
    "# Introduction"
   ]
  },
  {
   "cell_type": "raw",
   "id": "88bc95f2",
   "metadata": {},
   "source": [
    "This dataset name GoFord Bike Share is a dataset which give us an information about trip of users within a period of time.\n",
    "The dataset consist of several columns in which i am going to focused on features that will answers the bellow questions"
   ]
  },
  {
   "cell_type": "raw",
   "id": "83c4dd31",
   "metadata": {},
   "source": [
    "The idea of this project is to be able to to determined what influenced the bike trip dataset"
   ]
  },
  {
   "cell_type": "markdown",
   "id": "902135e7",
   "metadata": {},
   "source": [
    "# Questions\n",
    "Questions need to be asked in other to guide us on what influence the dataset"
   ]
  },
  {
   "cell_type": "markdown",
   "id": "073be7b3",
   "metadata": {},
   "source": [
    "#### Which of the gender dominated the dataset?"
   ]
  },
  {
   "cell_type": "markdown",
   "id": "e6c85402",
   "metadata": {},
   "source": [
    "#### Which of the user uses the bike most?"
   ]
  },
  {
   "cell_type": "markdown",
   "id": "ba151ef3",
   "metadata": {},
   "source": [
    "#### Is the majority of users old people or young people?"
   ]
  },
  {
   "cell_type": "markdown",
   "id": "d72a43eb",
   "metadata": {},
   "source": [
    "#### Which of the gender share bike?"
   ]
  },
  {
   "cell_type": "markdown",
   "id": "91db2ac0",
   "metadata": {},
   "source": [
    "#### Which age group spent more time on a trip?\n",
    "These are the question we are going to be looking into."
   ]
  },
  {
   "cell_type": "markdown",
   "id": "2d6990d7",
   "metadata": {},
   "source": [
    "#### Importing libraries"
   ]
  },
  {
   "cell_type": "code",
   "execution_count": 7,
   "id": "ee5a67dd",
   "metadata": {},
   "outputs": [],
   "source": [
    "import pandas as pd\n",
    "import numpy as np\n",
    "import seaborn as snb\n",
    "import matplotlib.pyplot as plt"
   ]
  },
  {
   "cell_type": "markdown",
   "id": "5e459ef2",
   "metadata": {},
   "source": [
    "#### Read the dataset"
   ]
  },
  {
   "cell_type": "code",
   "execution_count": 8,
   "id": "c08b081a",
   "metadata": {},
   "outputs": [],
   "source": [
    "#read the dataset\n",
    "df = pd.read_csv('201902-fordgobike-tripdata.csv')"
   ]
  },
  {
   "cell_type": "markdown",
   "id": "242404ab",
   "metadata": {},
   "source": [
    "# Data wrangling"
   ]
  },
  {
   "cell_type": "markdown",
   "id": "4115dd4d",
   "metadata": {},
   "source": [
    "#### Assessing data programatically"
   ]
  },
  {
   "cell_type": "code",
   "execution_count": 9,
   "id": "f8c349aa",
   "metadata": {},
   "outputs": [
    {
     "name": "stdout",
     "output_type": "stream",
     "text": [
      "<class 'pandas.core.frame.DataFrame'>\n",
      "RangeIndex: 183412 entries, 0 to 183411\n",
      "Data columns (total 16 columns):\n",
      " #   Column                   Non-Null Count   Dtype  \n",
      "---  ------                   --------------   -----  \n",
      " 0   duration_sec             183412 non-null  int64  \n",
      " 1   start_time               183412 non-null  object \n",
      " 2   end_time                 183412 non-null  object \n",
      " 3   start_station_id         183215 non-null  float64\n",
      " 4   start_station_name       183215 non-null  object \n",
      " 5   start_station_latitude   183412 non-null  float64\n",
      " 6   start_station_longitude  183412 non-null  float64\n",
      " 7   end_station_id           183215 non-null  float64\n",
      " 8   end_station_name         183215 non-null  object \n",
      " 9   end_station_latitude     183412 non-null  float64\n",
      " 10  end_station_longitude    183412 non-null  float64\n",
      " 11  bike_id                  183412 non-null  int64  \n",
      " 12  user_type                183412 non-null  object \n",
      " 13  member_birth_year        175147 non-null  float64\n",
      " 14  member_gender            175147 non-null  object \n",
      " 15  bike_share_for_all_trip  183412 non-null  object \n",
      "dtypes: float64(7), int64(2), object(7)\n",
      "memory usage: 22.4+ MB\n"
     ]
    }
   ],
   "source": [
    "#check the details of the dataset\n",
    "df.info()"
   ]
  },
  {
   "cell_type": "code",
   "execution_count": 10,
   "id": "d6bc28c5",
   "metadata": {},
   "outputs": [
    {
     "data": {
      "text/plain": [
       "(183412, 16)"
      ]
     },
     "execution_count": 10,
     "metadata": {},
     "output_type": "execute_result"
    }
   ],
   "source": [
    "#check the dataset dimension\n",
    "df.shape"
   ]
  },
  {
   "cell_type": "code",
   "execution_count": 11,
   "id": "7182df7a",
   "metadata": {},
   "outputs": [
    {
     "data": {
      "text/html": [
       "<div>\n",
       "<style scoped>\n",
       "    .dataframe tbody tr th:only-of-type {\n",
       "        vertical-align: middle;\n",
       "    }\n",
       "\n",
       "    .dataframe tbody tr th {\n",
       "        vertical-align: top;\n",
       "    }\n",
       "\n",
       "    .dataframe thead th {\n",
       "        text-align: right;\n",
       "    }\n",
       "</style>\n",
       "<table border=\"1\" class=\"dataframe\">\n",
       "  <thead>\n",
       "    <tr style=\"text-align: right;\">\n",
       "      <th></th>\n",
       "      <th>duration_sec</th>\n",
       "      <th>start_time</th>\n",
       "      <th>end_time</th>\n",
       "      <th>start_station_id</th>\n",
       "      <th>start_station_name</th>\n",
       "      <th>start_station_latitude</th>\n",
       "      <th>start_station_longitude</th>\n",
       "      <th>end_station_id</th>\n",
       "      <th>end_station_name</th>\n",
       "      <th>end_station_latitude</th>\n",
       "      <th>end_station_longitude</th>\n",
       "      <th>bike_id</th>\n",
       "      <th>user_type</th>\n",
       "      <th>member_birth_year</th>\n",
       "      <th>member_gender</th>\n",
       "      <th>bike_share_for_all_trip</th>\n",
       "    </tr>\n",
       "  </thead>\n",
       "  <tbody>\n",
       "    <tr>\n",
       "      <th>0</th>\n",
       "      <td>52185</td>\n",
       "      <td>2019-02-28 17:32:10.1450</td>\n",
       "      <td>2019-03-01 08:01:55.9750</td>\n",
       "      <td>21.0</td>\n",
       "      <td>Montgomery St BART Station (Market St at 2nd St)</td>\n",
       "      <td>37.789625</td>\n",
       "      <td>-122.400811</td>\n",
       "      <td>13.0</td>\n",
       "      <td>Commercial St at Montgomery St</td>\n",
       "      <td>37.794231</td>\n",
       "      <td>-122.402923</td>\n",
       "      <td>4902</td>\n",
       "      <td>Customer</td>\n",
       "      <td>1984.0</td>\n",
       "      <td>Male</td>\n",
       "      <td>No</td>\n",
       "    </tr>\n",
       "    <tr>\n",
       "      <th>1</th>\n",
       "      <td>42521</td>\n",
       "      <td>2019-02-28 18:53:21.7890</td>\n",
       "      <td>2019-03-01 06:42:03.0560</td>\n",
       "      <td>23.0</td>\n",
       "      <td>The Embarcadero at Steuart St</td>\n",
       "      <td>37.791464</td>\n",
       "      <td>-122.391034</td>\n",
       "      <td>81.0</td>\n",
       "      <td>Berry St at 4th St</td>\n",
       "      <td>37.775880</td>\n",
       "      <td>-122.393170</td>\n",
       "      <td>2535</td>\n",
       "      <td>Customer</td>\n",
       "      <td>NaN</td>\n",
       "      <td>NaN</td>\n",
       "      <td>No</td>\n",
       "    </tr>\n",
       "    <tr>\n",
       "      <th>2</th>\n",
       "      <td>61854</td>\n",
       "      <td>2019-02-28 12:13:13.2180</td>\n",
       "      <td>2019-03-01 05:24:08.1460</td>\n",
       "      <td>86.0</td>\n",
       "      <td>Market St at Dolores St</td>\n",
       "      <td>37.769305</td>\n",
       "      <td>-122.426826</td>\n",
       "      <td>3.0</td>\n",
       "      <td>Powell St BART Station (Market St at 4th St)</td>\n",
       "      <td>37.786375</td>\n",
       "      <td>-122.404904</td>\n",
       "      <td>5905</td>\n",
       "      <td>Customer</td>\n",
       "      <td>1972.0</td>\n",
       "      <td>Male</td>\n",
       "      <td>No</td>\n",
       "    </tr>\n",
       "    <tr>\n",
       "      <th>3</th>\n",
       "      <td>36490</td>\n",
       "      <td>2019-02-28 17:54:26.0100</td>\n",
       "      <td>2019-03-01 04:02:36.8420</td>\n",
       "      <td>375.0</td>\n",
       "      <td>Grove St at Masonic Ave</td>\n",
       "      <td>37.774836</td>\n",
       "      <td>-122.446546</td>\n",
       "      <td>70.0</td>\n",
       "      <td>Central Ave at Fell St</td>\n",
       "      <td>37.773311</td>\n",
       "      <td>-122.444293</td>\n",
       "      <td>6638</td>\n",
       "      <td>Subscriber</td>\n",
       "      <td>1989.0</td>\n",
       "      <td>Other</td>\n",
       "      <td>No</td>\n",
       "    </tr>\n",
       "    <tr>\n",
       "      <th>4</th>\n",
       "      <td>1585</td>\n",
       "      <td>2019-02-28 23:54:18.5490</td>\n",
       "      <td>2019-03-01 00:20:44.0740</td>\n",
       "      <td>7.0</td>\n",
       "      <td>Frank H Ogawa Plaza</td>\n",
       "      <td>37.804562</td>\n",
       "      <td>-122.271738</td>\n",
       "      <td>222.0</td>\n",
       "      <td>10th Ave at E 15th St</td>\n",
       "      <td>37.792714</td>\n",
       "      <td>-122.248780</td>\n",
       "      <td>4898</td>\n",
       "      <td>Subscriber</td>\n",
       "      <td>1974.0</td>\n",
       "      <td>Male</td>\n",
       "      <td>Yes</td>\n",
       "    </tr>\n",
       "  </tbody>\n",
       "</table>\n",
       "</div>"
      ],
      "text/plain": [
       "   duration_sec                start_time                  end_time  \\\n",
       "0         52185  2019-02-28 17:32:10.1450  2019-03-01 08:01:55.9750   \n",
       "1         42521  2019-02-28 18:53:21.7890  2019-03-01 06:42:03.0560   \n",
       "2         61854  2019-02-28 12:13:13.2180  2019-03-01 05:24:08.1460   \n",
       "3         36490  2019-02-28 17:54:26.0100  2019-03-01 04:02:36.8420   \n",
       "4          1585  2019-02-28 23:54:18.5490  2019-03-01 00:20:44.0740   \n",
       "\n",
       "   start_station_id                                start_station_name  \\\n",
       "0              21.0  Montgomery St BART Station (Market St at 2nd St)   \n",
       "1              23.0                     The Embarcadero at Steuart St   \n",
       "2              86.0                           Market St at Dolores St   \n",
       "3             375.0                           Grove St at Masonic Ave   \n",
       "4               7.0                               Frank H Ogawa Plaza   \n",
       "\n",
       "   start_station_latitude  start_station_longitude  end_station_id  \\\n",
       "0               37.789625              -122.400811            13.0   \n",
       "1               37.791464              -122.391034            81.0   \n",
       "2               37.769305              -122.426826             3.0   \n",
       "3               37.774836              -122.446546            70.0   \n",
       "4               37.804562              -122.271738           222.0   \n",
       "\n",
       "                               end_station_name  end_station_latitude  \\\n",
       "0                Commercial St at Montgomery St             37.794231   \n",
       "1                            Berry St at 4th St             37.775880   \n",
       "2  Powell St BART Station (Market St at 4th St)             37.786375   \n",
       "3                        Central Ave at Fell St             37.773311   \n",
       "4                         10th Ave at E 15th St             37.792714   \n",
       "\n",
       "   end_station_longitude  bike_id   user_type  member_birth_year  \\\n",
       "0            -122.402923     4902    Customer             1984.0   \n",
       "1            -122.393170     2535    Customer                NaN   \n",
       "2            -122.404904     5905    Customer             1972.0   \n",
       "3            -122.444293     6638  Subscriber             1989.0   \n",
       "4            -122.248780     4898  Subscriber             1974.0   \n",
       "\n",
       "  member_gender bike_share_for_all_trip  \n",
       "0          Male                      No  \n",
       "1           NaN                      No  \n",
       "2          Male                      No  \n",
       "3         Other                      No  \n",
       "4          Male                     Yes  "
      ]
     },
     "execution_count": 11,
     "metadata": {},
     "output_type": "execute_result"
    }
   ],
   "source": [
    "#have a look at dataset table\n",
    "df.head(5)"
   ]
  },
  {
   "cell_type": "code",
   "execution_count": 12,
   "id": "5f201e72",
   "metadata": {},
   "outputs": [
    {
     "data": {
      "text/html": [
       "<div>\n",
       "<style scoped>\n",
       "    .dataframe tbody tr th:only-of-type {\n",
       "        vertical-align: middle;\n",
       "    }\n",
       "\n",
       "    .dataframe tbody tr th {\n",
       "        vertical-align: top;\n",
       "    }\n",
       "\n",
       "    .dataframe thead th {\n",
       "        text-align: right;\n",
       "    }\n",
       "</style>\n",
       "<table border=\"1\" class=\"dataframe\">\n",
       "  <thead>\n",
       "    <tr style=\"text-align: right;\">\n",
       "      <th></th>\n",
       "      <th>duration_sec</th>\n",
       "      <th>start_station_id</th>\n",
       "      <th>start_station_latitude</th>\n",
       "      <th>start_station_longitude</th>\n",
       "      <th>end_station_id</th>\n",
       "      <th>end_station_latitude</th>\n",
       "      <th>end_station_longitude</th>\n",
       "      <th>bike_id</th>\n",
       "      <th>member_birth_year</th>\n",
       "    </tr>\n",
       "  </thead>\n",
       "  <tbody>\n",
       "    <tr>\n",
       "      <th>count</th>\n",
       "      <td>183412.000000</td>\n",
       "      <td>183215.000000</td>\n",
       "      <td>183412.000000</td>\n",
       "      <td>183412.000000</td>\n",
       "      <td>183215.000000</td>\n",
       "      <td>183412.000000</td>\n",
       "      <td>183412.000000</td>\n",
       "      <td>183412.000000</td>\n",
       "      <td>175147.000000</td>\n",
       "    </tr>\n",
       "    <tr>\n",
       "      <th>mean</th>\n",
       "      <td>726.078435</td>\n",
       "      <td>138.590427</td>\n",
       "      <td>37.771223</td>\n",
       "      <td>-122.352664</td>\n",
       "      <td>136.249123</td>\n",
       "      <td>37.771427</td>\n",
       "      <td>-122.352250</td>\n",
       "      <td>4472.906375</td>\n",
       "      <td>1984.806437</td>\n",
       "    </tr>\n",
       "    <tr>\n",
       "      <th>std</th>\n",
       "      <td>1794.389780</td>\n",
       "      <td>111.778864</td>\n",
       "      <td>0.099581</td>\n",
       "      <td>0.117097</td>\n",
       "      <td>111.515131</td>\n",
       "      <td>0.099490</td>\n",
       "      <td>0.116673</td>\n",
       "      <td>1664.383394</td>\n",
       "      <td>10.116689</td>\n",
       "    </tr>\n",
       "    <tr>\n",
       "      <th>min</th>\n",
       "      <td>61.000000</td>\n",
       "      <td>3.000000</td>\n",
       "      <td>37.317298</td>\n",
       "      <td>-122.453704</td>\n",
       "      <td>3.000000</td>\n",
       "      <td>37.317298</td>\n",
       "      <td>-122.453704</td>\n",
       "      <td>11.000000</td>\n",
       "      <td>1878.000000</td>\n",
       "    </tr>\n",
       "    <tr>\n",
       "      <th>25%</th>\n",
       "      <td>325.000000</td>\n",
       "      <td>47.000000</td>\n",
       "      <td>37.770083</td>\n",
       "      <td>-122.412408</td>\n",
       "      <td>44.000000</td>\n",
       "      <td>37.770407</td>\n",
       "      <td>-122.411726</td>\n",
       "      <td>3777.000000</td>\n",
       "      <td>1980.000000</td>\n",
       "    </tr>\n",
       "    <tr>\n",
       "      <th>50%</th>\n",
       "      <td>514.000000</td>\n",
       "      <td>104.000000</td>\n",
       "      <td>37.780760</td>\n",
       "      <td>-122.398285</td>\n",
       "      <td>100.000000</td>\n",
       "      <td>37.781010</td>\n",
       "      <td>-122.398279</td>\n",
       "      <td>4958.000000</td>\n",
       "      <td>1987.000000</td>\n",
       "    </tr>\n",
       "    <tr>\n",
       "      <th>75%</th>\n",
       "      <td>796.000000</td>\n",
       "      <td>239.000000</td>\n",
       "      <td>37.797280</td>\n",
       "      <td>-122.286533</td>\n",
       "      <td>235.000000</td>\n",
       "      <td>37.797320</td>\n",
       "      <td>-122.288045</td>\n",
       "      <td>5502.000000</td>\n",
       "      <td>1992.000000</td>\n",
       "    </tr>\n",
       "    <tr>\n",
       "      <th>max</th>\n",
       "      <td>85444.000000</td>\n",
       "      <td>398.000000</td>\n",
       "      <td>37.880222</td>\n",
       "      <td>-121.874119</td>\n",
       "      <td>398.000000</td>\n",
       "      <td>37.880222</td>\n",
       "      <td>-121.874119</td>\n",
       "      <td>6645.000000</td>\n",
       "      <td>2001.000000</td>\n",
       "    </tr>\n",
       "  </tbody>\n",
       "</table>\n",
       "</div>"
      ],
      "text/plain": [
       "        duration_sec  start_station_id  start_station_latitude  \\\n",
       "count  183412.000000     183215.000000           183412.000000   \n",
       "mean      726.078435        138.590427               37.771223   \n",
       "std      1794.389780        111.778864                0.099581   \n",
       "min        61.000000          3.000000               37.317298   \n",
       "25%       325.000000         47.000000               37.770083   \n",
       "50%       514.000000        104.000000               37.780760   \n",
       "75%       796.000000        239.000000               37.797280   \n",
       "max     85444.000000        398.000000               37.880222   \n",
       "\n",
       "       start_station_longitude  end_station_id  end_station_latitude  \\\n",
       "count            183412.000000   183215.000000         183412.000000   \n",
       "mean               -122.352664      136.249123             37.771427   \n",
       "std                   0.117097      111.515131              0.099490   \n",
       "min                -122.453704        3.000000             37.317298   \n",
       "25%                -122.412408       44.000000             37.770407   \n",
       "50%                -122.398285      100.000000             37.781010   \n",
       "75%                -122.286533      235.000000             37.797320   \n",
       "max                -121.874119      398.000000             37.880222   \n",
       "\n",
       "       end_station_longitude        bike_id  member_birth_year  \n",
       "count          183412.000000  183412.000000      175147.000000  \n",
       "mean             -122.352250    4472.906375        1984.806437  \n",
       "std                 0.116673    1664.383394          10.116689  \n",
       "min              -122.453704      11.000000        1878.000000  \n",
       "25%              -122.411726    3777.000000        1980.000000  \n",
       "50%              -122.398279    4958.000000        1987.000000  \n",
       "75%              -122.288045    5502.000000        1992.000000  \n",
       "max              -121.874119    6645.000000        2001.000000  "
      ]
     },
     "execution_count": 12,
     "metadata": {},
     "output_type": "execute_result"
    }
   ],
   "source": [
    "#check the dataset distribution\n",
    "df.describe()"
   ]
  },
  {
   "cell_type": "raw",
   "id": "264cee52",
   "metadata": {},
   "source": [
    "We have the maximum users date of birth to be 2001, minimum to be 1878 & mean to be 1987"
   ]
  },
  {
   "cell_type": "code",
   "execution_count": 13,
   "id": "f86083c7",
   "metadata": {},
   "outputs": [
    {
     "data": {
      "text/plain": [
       "['duration_sec',\n",
       " 'start_time',\n",
       " 'end_time',\n",
       " 'start_station_id',\n",
       " 'start_station_name',\n",
       " 'start_station_latitude',\n",
       " 'start_station_longitude',\n",
       " 'end_station_id',\n",
       " 'end_station_name',\n",
       " 'end_station_latitude',\n",
       " 'end_station_longitude',\n",
       " 'bike_id',\n",
       " 'user_type',\n",
       " 'member_birth_year',\n",
       " 'member_gender',\n",
       " 'bike_share_for_all_trip']"
      ]
     },
     "execution_count": 13,
     "metadata": {},
     "output_type": "execute_result"
    }
   ],
   "source": [
    "#check the columns name\n",
    "list(df)"
   ]
  },
  {
   "cell_type": "code",
   "execution_count": 14,
   "id": "a1dc6a74",
   "metadata": {},
   "outputs": [
    {
     "data": {
      "text/plain": [
       "178766"
      ]
     },
     "execution_count": 14,
     "metadata": {},
     "output_type": "execute_result"
    }
   ],
   "source": [
    "#check for duplication\n",
    "df['bike_id'].duplicated().sum()"
   ]
  },
  {
   "cell_type": "code",
   "execution_count": 15,
   "id": "1d43253d",
   "metadata": {},
   "outputs": [
    {
     "data": {
      "text/plain": [
       "array(['Customer', 'Subscriber'], dtype=object)"
      ]
     },
     "execution_count": 15,
     "metadata": {},
     "output_type": "execute_result"
    }
   ],
   "source": [
    "#chech for unique value\n",
    "df['user_type'].unique()"
   ]
  },
  {
   "cell_type": "code",
   "execution_count": 16,
   "id": "dd4b71a8",
   "metadata": {},
   "outputs": [
    {
     "data": {
      "text/plain": [
       "duration_sec                  0\n",
       "start_time                    0\n",
       "end_time                      0\n",
       "start_station_id            197\n",
       "start_station_name          197\n",
       "start_station_latitude        0\n",
       "start_station_longitude       0\n",
       "end_station_id              197\n",
       "end_station_name            197\n",
       "end_station_latitude          0\n",
       "end_station_longitude         0\n",
       "bike_id                       0\n",
       "user_type                     0\n",
       "member_birth_year          8265\n",
       "member_gender              8265\n",
       "bike_share_for_all_trip       0\n",
       "dtype: int64"
      ]
     },
     "execution_count": 16,
     "metadata": {},
     "output_type": "execute_result"
    }
   ],
   "source": [
    "#check null value in the dataset\n",
    "df.isnull().sum()"
   ]
  },
  {
   "cell_type": "code",
   "execution_count": 17,
   "id": "e0a9237a",
   "metadata": {},
   "outputs": [
    {
     "data": {
      "text/plain": [
       "Subscriber    163544\n",
       "Customer       19868\n",
       "Name: user_type, dtype: int64"
      ]
     },
     "execution_count": 17,
     "metadata": {},
     "output_type": "execute_result"
    }
   ],
   "source": [
    "#check each counts for subsciber & customer in user_type column\n",
    "df['user_type'].value_counts()"
   ]
  },
  {
   "cell_type": "code",
   "execution_count": 18,
   "id": "cd54dc02",
   "metadata": {},
   "outputs": [
    {
     "data": {
      "text/plain": [
       "No     166053\n",
       "Yes     17359\n",
       "Name: bike_share_for_all_trip, dtype: int64"
      ]
     },
     "execution_count": 18,
     "metadata": {},
     "output_type": "execute_result"
    }
   ],
   "source": [
    "#check the counts for those that share bike\n",
    "df['bike_share_for_all_trip'].value_counts()"
   ]
  },
  {
   "cell_type": "markdown",
   "id": "5c9c7949",
   "metadata": {},
   "source": [
    "#### From the dataset assesment, we have an idea of how our data looks like. it is important to know that the dataset is a little bit dirty, we have null values and wrong data type. our main focus features in the dataset are duration hour, user type, age, bike share, start time, end time, start month and end month, start day and end day"
   ]
  },
  {
   "cell_type": "markdown",
   "id": "6edccc78",
   "metadata": {},
   "source": [
    "# Data Cleaning"
   ]
  },
  {
   "cell_type": "markdown",
   "id": "bd498bb9",
   "metadata": {},
   "source": [
    "#### Define"
   ]
  },
  {
   "cell_type": "raw",
   "id": "989cbcf7",
   "metadata": {},
   "source": [
    "copy the original dataset"
   ]
  },
  {
   "cell_type": "markdown",
   "id": "53808ba0",
   "metadata": {},
   "source": [
    "#### Code"
   ]
  },
  {
   "cell_type": "code",
   "execution_count": 19,
   "id": "8c5f3f65",
   "metadata": {},
   "outputs": [],
   "source": [
    "#copy the original dataset\n",
    "df2 = df.copy()"
   ]
  },
  {
   "cell_type": "markdown",
   "id": "7f84e274",
   "metadata": {},
   "source": [
    "#### Test"
   ]
  },
  {
   "cell_type": "code",
   "execution_count": 20,
   "id": "fe631198",
   "metadata": {},
   "outputs": [
    {
     "data": {
      "text/html": [
       "<div>\n",
       "<style scoped>\n",
       "    .dataframe tbody tr th:only-of-type {\n",
       "        vertical-align: middle;\n",
       "    }\n",
       "\n",
       "    .dataframe tbody tr th {\n",
       "        vertical-align: top;\n",
       "    }\n",
       "\n",
       "    .dataframe thead th {\n",
       "        text-align: right;\n",
       "    }\n",
       "</style>\n",
       "<table border=\"1\" class=\"dataframe\">\n",
       "  <thead>\n",
       "    <tr style=\"text-align: right;\">\n",
       "      <th></th>\n",
       "      <th>duration_sec</th>\n",
       "      <th>start_time</th>\n",
       "      <th>end_time</th>\n",
       "      <th>start_station_id</th>\n",
       "      <th>start_station_name</th>\n",
       "      <th>start_station_latitude</th>\n",
       "      <th>start_station_longitude</th>\n",
       "      <th>end_station_id</th>\n",
       "      <th>end_station_name</th>\n",
       "      <th>end_station_latitude</th>\n",
       "      <th>end_station_longitude</th>\n",
       "      <th>bike_id</th>\n",
       "      <th>user_type</th>\n",
       "      <th>member_birth_year</th>\n",
       "      <th>member_gender</th>\n",
       "      <th>bike_share_for_all_trip</th>\n",
       "    </tr>\n",
       "  </thead>\n",
       "  <tbody>\n",
       "    <tr>\n",
       "      <th>0</th>\n",
       "      <td>52185</td>\n",
       "      <td>2019-02-28 17:32:10.1450</td>\n",
       "      <td>2019-03-01 08:01:55.9750</td>\n",
       "      <td>21.0</td>\n",
       "      <td>Montgomery St BART Station (Market St at 2nd St)</td>\n",
       "      <td>37.789625</td>\n",
       "      <td>-122.400811</td>\n",
       "      <td>13.0</td>\n",
       "      <td>Commercial St at Montgomery St</td>\n",
       "      <td>37.794231</td>\n",
       "      <td>-122.402923</td>\n",
       "      <td>4902</td>\n",
       "      <td>Customer</td>\n",
       "      <td>1984.0</td>\n",
       "      <td>Male</td>\n",
       "      <td>No</td>\n",
       "    </tr>\n",
       "    <tr>\n",
       "      <th>1</th>\n",
       "      <td>42521</td>\n",
       "      <td>2019-02-28 18:53:21.7890</td>\n",
       "      <td>2019-03-01 06:42:03.0560</td>\n",
       "      <td>23.0</td>\n",
       "      <td>The Embarcadero at Steuart St</td>\n",
       "      <td>37.791464</td>\n",
       "      <td>-122.391034</td>\n",
       "      <td>81.0</td>\n",
       "      <td>Berry St at 4th St</td>\n",
       "      <td>37.775880</td>\n",
       "      <td>-122.393170</td>\n",
       "      <td>2535</td>\n",
       "      <td>Customer</td>\n",
       "      <td>NaN</td>\n",
       "      <td>NaN</td>\n",
       "      <td>No</td>\n",
       "    </tr>\n",
       "    <tr>\n",
       "      <th>2</th>\n",
       "      <td>61854</td>\n",
       "      <td>2019-02-28 12:13:13.2180</td>\n",
       "      <td>2019-03-01 05:24:08.1460</td>\n",
       "      <td>86.0</td>\n",
       "      <td>Market St at Dolores St</td>\n",
       "      <td>37.769305</td>\n",
       "      <td>-122.426826</td>\n",
       "      <td>3.0</td>\n",
       "      <td>Powell St BART Station (Market St at 4th St)</td>\n",
       "      <td>37.786375</td>\n",
       "      <td>-122.404904</td>\n",
       "      <td>5905</td>\n",
       "      <td>Customer</td>\n",
       "      <td>1972.0</td>\n",
       "      <td>Male</td>\n",
       "      <td>No</td>\n",
       "    </tr>\n",
       "    <tr>\n",
       "      <th>3</th>\n",
       "      <td>36490</td>\n",
       "      <td>2019-02-28 17:54:26.0100</td>\n",
       "      <td>2019-03-01 04:02:36.8420</td>\n",
       "      <td>375.0</td>\n",
       "      <td>Grove St at Masonic Ave</td>\n",
       "      <td>37.774836</td>\n",
       "      <td>-122.446546</td>\n",
       "      <td>70.0</td>\n",
       "      <td>Central Ave at Fell St</td>\n",
       "      <td>37.773311</td>\n",
       "      <td>-122.444293</td>\n",
       "      <td>6638</td>\n",
       "      <td>Subscriber</td>\n",
       "      <td>1989.0</td>\n",
       "      <td>Other</td>\n",
       "      <td>No</td>\n",
       "    </tr>\n",
       "    <tr>\n",
       "      <th>4</th>\n",
       "      <td>1585</td>\n",
       "      <td>2019-02-28 23:54:18.5490</td>\n",
       "      <td>2019-03-01 00:20:44.0740</td>\n",
       "      <td>7.0</td>\n",
       "      <td>Frank H Ogawa Plaza</td>\n",
       "      <td>37.804562</td>\n",
       "      <td>-122.271738</td>\n",
       "      <td>222.0</td>\n",
       "      <td>10th Ave at E 15th St</td>\n",
       "      <td>37.792714</td>\n",
       "      <td>-122.248780</td>\n",
       "      <td>4898</td>\n",
       "      <td>Subscriber</td>\n",
       "      <td>1974.0</td>\n",
       "      <td>Male</td>\n",
       "      <td>Yes</td>\n",
       "    </tr>\n",
       "  </tbody>\n",
       "</table>\n",
       "</div>"
      ],
      "text/plain": [
       "   duration_sec                start_time                  end_time  \\\n",
       "0         52185  2019-02-28 17:32:10.1450  2019-03-01 08:01:55.9750   \n",
       "1         42521  2019-02-28 18:53:21.7890  2019-03-01 06:42:03.0560   \n",
       "2         61854  2019-02-28 12:13:13.2180  2019-03-01 05:24:08.1460   \n",
       "3         36490  2019-02-28 17:54:26.0100  2019-03-01 04:02:36.8420   \n",
       "4          1585  2019-02-28 23:54:18.5490  2019-03-01 00:20:44.0740   \n",
       "\n",
       "   start_station_id                                start_station_name  \\\n",
       "0              21.0  Montgomery St BART Station (Market St at 2nd St)   \n",
       "1              23.0                     The Embarcadero at Steuart St   \n",
       "2              86.0                           Market St at Dolores St   \n",
       "3             375.0                           Grove St at Masonic Ave   \n",
       "4               7.0                               Frank H Ogawa Plaza   \n",
       "\n",
       "   start_station_latitude  start_station_longitude  end_station_id  \\\n",
       "0               37.789625              -122.400811            13.0   \n",
       "1               37.791464              -122.391034            81.0   \n",
       "2               37.769305              -122.426826             3.0   \n",
       "3               37.774836              -122.446546            70.0   \n",
       "4               37.804562              -122.271738           222.0   \n",
       "\n",
       "                               end_station_name  end_station_latitude  \\\n",
       "0                Commercial St at Montgomery St             37.794231   \n",
       "1                            Berry St at 4th St             37.775880   \n",
       "2  Powell St BART Station (Market St at 4th St)             37.786375   \n",
       "3                        Central Ave at Fell St             37.773311   \n",
       "4                         10th Ave at E 15th St             37.792714   \n",
       "\n",
       "   end_station_longitude  bike_id   user_type  member_birth_year  \\\n",
       "0            -122.402923     4902    Customer             1984.0   \n",
       "1            -122.393170     2535    Customer                NaN   \n",
       "2            -122.404904     5905    Customer             1972.0   \n",
       "3            -122.444293     6638  Subscriber             1989.0   \n",
       "4            -122.248780     4898  Subscriber             1974.0   \n",
       "\n",
       "  member_gender bike_share_for_all_trip  \n",
       "0          Male                      No  \n",
       "1           NaN                      No  \n",
       "2          Male                      No  \n",
       "3         Other                      No  \n",
       "4          Male                     Yes  "
      ]
     },
     "execution_count": 20,
     "metadata": {},
     "output_type": "execute_result"
    }
   ],
   "source": [
    "#check it out\n",
    "df2.head()"
   ]
  },
  {
   "cell_type": "markdown",
   "id": "3c6381d5",
   "metadata": {},
   "source": [
    "# Define"
   ]
  },
  {
   "cell_type": "raw",
   "id": "c9f6d144",
   "metadata": {},
   "source": [
    "Convert the start and end time data type to date format\n",
    "Create culumns\n",
    "Extract day, month and year from start year & end year"
   ]
  },
  {
   "cell_type": "markdown",
   "id": "df0b3c8a",
   "metadata": {},
   "source": [
    "# Code"
   ]
  },
  {
   "cell_type": "code",
   "execution_count": 21,
   "id": "19dbf894",
   "metadata": {},
   "outputs": [],
   "source": [
    "#Convert the start and end time data type to date format\n",
    "df2[\"start_time\"] = pd.to_datetime(df2['start_time'], format = '')\n",
    "df2[\"end_time\"] = pd.to_datetime(df2['end_time'], format = '')"
   ]
  },
  {
   "cell_type": "code",
   "execution_count": 22,
   "id": "1c7e3f14",
   "metadata": {},
   "outputs": [],
   "source": [
    "#create a new column & extract year from start year & end year and format it to year\n",
    "df2['start_year'] = df2['start_time'].dt.year\n",
    "df2['end_year'] = df2['start_time'].dt.year"
   ]
  },
  {
   "cell_type": "code",
   "execution_count": 23,
   "id": "7d3387e7",
   "metadata": {},
   "outputs": [],
   "source": [
    "#create a new column & extract month from start year & end year and format it to date\n",
    "df2['start_month'] = df2['start_time'].dt.month_name()\n",
    "df2['end_month'] = df2['start_time'].dt.month_name()"
   ]
  },
  {
   "cell_type": "code",
   "execution_count": 24,
   "id": "257f6b86",
   "metadata": {},
   "outputs": [],
   "source": [
    "#create a new column & extract week_day from start year & end year\n",
    "df2['start_weekday'] = df2['start_time'].dt.day_name()\n",
    "df2['end_weekday'] = df2['start_time'].dt.day_name()"
   ]
  },
  {
   "cell_type": "markdown",
   "id": "41f006f8",
   "metadata": {},
   "source": [
    "# Test"
   ]
  },
  {
   "cell_type": "code",
   "execution_count": 25,
   "id": "e56831f1",
   "metadata": {},
   "outputs": [
    {
     "data": {
      "text/html": [
       "<div>\n",
       "<style scoped>\n",
       "    .dataframe tbody tr th:only-of-type {\n",
       "        vertical-align: middle;\n",
       "    }\n",
       "\n",
       "    .dataframe tbody tr th {\n",
       "        vertical-align: top;\n",
       "    }\n",
       "\n",
       "    .dataframe thead th {\n",
       "        text-align: right;\n",
       "    }\n",
       "</style>\n",
       "<table border=\"1\" class=\"dataframe\">\n",
       "  <thead>\n",
       "    <tr style=\"text-align: right;\">\n",
       "      <th></th>\n",
       "      <th>duration_sec</th>\n",
       "      <th>start_time</th>\n",
       "      <th>end_time</th>\n",
       "      <th>start_station_id</th>\n",
       "      <th>start_station_name</th>\n",
       "      <th>start_station_latitude</th>\n",
       "      <th>start_station_longitude</th>\n",
       "      <th>end_station_id</th>\n",
       "      <th>end_station_name</th>\n",
       "      <th>end_station_latitude</th>\n",
       "      <th>...</th>\n",
       "      <th>user_type</th>\n",
       "      <th>member_birth_year</th>\n",
       "      <th>member_gender</th>\n",
       "      <th>bike_share_for_all_trip</th>\n",
       "      <th>start_year</th>\n",
       "      <th>end_year</th>\n",
       "      <th>start_month</th>\n",
       "      <th>end_month</th>\n",
       "      <th>start_weekday</th>\n",
       "      <th>end_weekday</th>\n",
       "    </tr>\n",
       "  </thead>\n",
       "  <tbody>\n",
       "  </tbody>\n",
       "</table>\n",
       "<p>0 rows × 22 columns</p>\n",
       "</div>"
      ],
      "text/plain": [
       "Empty DataFrame\n",
       "Columns: [duration_sec, start_time, end_time, start_station_id, start_station_name, start_station_latitude, start_station_longitude, end_station_id, end_station_name, end_station_latitude, end_station_longitude, bike_id, user_type, member_birth_year, member_gender, bike_share_for_all_trip, start_year, end_year, start_month, end_month, start_weekday, end_weekday]\n",
       "Index: []\n",
       "\n",
       "[0 rows x 22 columns]"
      ]
     },
     "execution_count": 25,
     "metadata": {},
     "output_type": "execute_result"
    }
   ],
   "source": [
    "df2.head(0)"
   ]
  },
  {
   "cell_type": "markdown",
   "id": "4b83dbed",
   "metadata": {},
   "source": [
    "# Define"
   ]
  },
  {
   "cell_type": "raw",
   "id": "92e2f8b1",
   "metadata": {},
   "source": [
    "Delete all the null row"
   ]
  },
  {
   "cell_type": "markdown",
   "id": "98467da9",
   "metadata": {},
   "source": [
    "# Code"
   ]
  },
  {
   "cell_type": "code",
   "execution_count": 26,
   "id": "a715ca20",
   "metadata": {},
   "outputs": [],
   "source": [
    "#drop all the null values\n",
    "#drop all the null values\n",
    "df2.dropna(axis = 0, inplace = True)"
   ]
  },
  {
   "cell_type": "markdown",
   "id": "ae487100",
   "metadata": {},
   "source": [
    "# Test"
   ]
  },
  {
   "cell_type": "code",
   "execution_count": 27,
   "id": "915898f4",
   "metadata": {},
   "outputs": [
    {
     "name": "stdout",
     "output_type": "stream",
     "text": [
      "<class 'pandas.core.frame.DataFrame'>\n",
      "Int64Index: 174952 entries, 0 to 183411\n",
      "Data columns (total 22 columns):\n",
      " #   Column                   Non-Null Count   Dtype         \n",
      "---  ------                   --------------   -----         \n",
      " 0   duration_sec             174952 non-null  int64         \n",
      " 1   start_time               174952 non-null  datetime64[ns]\n",
      " 2   end_time                 174952 non-null  datetime64[ns]\n",
      " 3   start_station_id         174952 non-null  float64       \n",
      " 4   start_station_name       174952 non-null  object        \n",
      " 5   start_station_latitude   174952 non-null  float64       \n",
      " 6   start_station_longitude  174952 non-null  float64       \n",
      " 7   end_station_id           174952 non-null  float64       \n",
      " 8   end_station_name         174952 non-null  object        \n",
      " 9   end_station_latitude     174952 non-null  float64       \n",
      " 10  end_station_longitude    174952 non-null  float64       \n",
      " 11  bike_id                  174952 non-null  int64         \n",
      " 12  user_type                174952 non-null  object        \n",
      " 13  member_birth_year        174952 non-null  float64       \n",
      " 14  member_gender            174952 non-null  object        \n",
      " 15  bike_share_for_all_trip  174952 non-null  object        \n",
      " 16  start_year               174952 non-null  int64         \n",
      " 17  end_year                 174952 non-null  int64         \n",
      " 18  start_month              174952 non-null  object        \n",
      " 19  end_month                174952 non-null  object        \n",
      " 20  start_weekday            174952 non-null  object        \n",
      " 21  end_weekday              174952 non-null  object        \n",
      "dtypes: datetime64[ns](2), float64(7), int64(4), object(9)\n",
      "memory usage: 30.7+ MB\n"
     ]
    }
   ],
   "source": [
    "#check it out\n",
    "df2.info()"
   ]
  },
  {
   "cell_type": "markdown",
   "id": "4ef72010",
   "metadata": {},
   "source": [
    "# Define"
   ]
  },
  {
   "cell_type": "raw",
   "id": "346eb268",
   "metadata": {},
   "source": [
    "Convert duration_seconds to hours and rename it"
   ]
  },
  {
   "cell_type": "markdown",
   "id": "2440a56a",
   "metadata": {},
   "source": [
    "# Code"
   ]
  },
  {
   "cell_type": "code",
   "execution_count": 28,
   "id": "40bea688",
   "metadata": {},
   "outputs": [],
   "source": [
    "#Convert duration_seconds to hours and rename it\n",
    "df2['duration_sec'] = df2['duration_sec']/60\n",
    "df2.rename(columns = {'duration_sec':'duration_hour'}, inplace = True)"
   ]
  },
  {
   "cell_type": "markdown",
   "id": "76f11415",
   "metadata": {},
   "source": [
    "# Test"
   ]
  },
  {
   "cell_type": "code",
   "execution_count": 29,
   "id": "24cfae96",
   "metadata": {},
   "outputs": [
    {
     "data": {
      "text/html": [
       "<div>\n",
       "<style scoped>\n",
       "    .dataframe tbody tr th:only-of-type {\n",
       "        vertical-align: middle;\n",
       "    }\n",
       "\n",
       "    .dataframe tbody tr th {\n",
       "        vertical-align: top;\n",
       "    }\n",
       "\n",
       "    .dataframe thead th {\n",
       "        text-align: right;\n",
       "    }\n",
       "</style>\n",
       "<table border=\"1\" class=\"dataframe\">\n",
       "  <thead>\n",
       "    <tr style=\"text-align: right;\">\n",
       "      <th></th>\n",
       "      <th>duration_hour</th>\n",
       "      <th>start_time</th>\n",
       "      <th>end_time</th>\n",
       "      <th>start_station_id</th>\n",
       "      <th>start_station_name</th>\n",
       "      <th>start_station_latitude</th>\n",
       "      <th>start_station_longitude</th>\n",
       "      <th>end_station_id</th>\n",
       "      <th>end_station_name</th>\n",
       "      <th>end_station_latitude</th>\n",
       "      <th>...</th>\n",
       "      <th>user_type</th>\n",
       "      <th>member_birth_year</th>\n",
       "      <th>member_gender</th>\n",
       "      <th>bike_share_for_all_trip</th>\n",
       "      <th>start_year</th>\n",
       "      <th>end_year</th>\n",
       "      <th>start_month</th>\n",
       "      <th>end_month</th>\n",
       "      <th>start_weekday</th>\n",
       "      <th>end_weekday</th>\n",
       "    </tr>\n",
       "  </thead>\n",
       "  <tbody>\n",
       "  </tbody>\n",
       "</table>\n",
       "<p>0 rows × 22 columns</p>\n",
       "</div>"
      ],
      "text/plain": [
       "Empty DataFrame\n",
       "Columns: [duration_hour, start_time, end_time, start_station_id, start_station_name, start_station_latitude, start_station_longitude, end_station_id, end_station_name, end_station_latitude, end_station_longitude, bike_id, user_type, member_birth_year, member_gender, bike_share_for_all_trip, start_year, end_year, start_month, end_month, start_weekday, end_weekday]\n",
       "Index: []\n",
       "\n",
       "[0 rows x 22 columns]"
      ]
     },
     "execution_count": 29,
     "metadata": {},
     "output_type": "execute_result"
    }
   ],
   "source": [
    "df2.head(0)"
   ]
  },
  {
   "cell_type": "markdown",
   "id": "07ec0456",
   "metadata": {},
   "source": [
    "# Define"
   ]
  },
  {
   "cell_type": "raw",
   "id": "26702d93",
   "metadata": {},
   "source": [
    "Extract hours from start time column and change the datatype to hour"
   ]
  },
  {
   "cell_type": "markdown",
   "id": "1fd5c283",
   "metadata": {},
   "source": [
    "# Code"
   ]
  },
  {
   "cell_type": "code",
   "execution_count": 30,
   "id": "96f6f974",
   "metadata": {},
   "outputs": [],
   "source": [
    "#Create a new column & extract hours from start time column and change the datatype to hour\n",
    "df2['start_hour'] = df2['start_time'].dt.hour"
   ]
  },
  {
   "cell_type": "markdown",
   "id": "36c10bd3",
   "metadata": {},
   "source": [
    "# Test"
   ]
  },
  {
   "cell_type": "code",
   "execution_count": 31,
   "id": "ec3e5e67",
   "metadata": {},
   "outputs": [
    {
     "name": "stdout",
     "output_type": "stream",
     "text": [
      "<class 'pandas.core.frame.DataFrame'>\n",
      "Int64Index: 174952 entries, 0 to 183411\n",
      "Data columns (total 23 columns):\n",
      " #   Column                   Non-Null Count   Dtype         \n",
      "---  ------                   --------------   -----         \n",
      " 0   duration_hour            174952 non-null  float64       \n",
      " 1   start_time               174952 non-null  datetime64[ns]\n",
      " 2   end_time                 174952 non-null  datetime64[ns]\n",
      " 3   start_station_id         174952 non-null  float64       \n",
      " 4   start_station_name       174952 non-null  object        \n",
      " 5   start_station_latitude   174952 non-null  float64       \n",
      " 6   start_station_longitude  174952 non-null  float64       \n",
      " 7   end_station_id           174952 non-null  float64       \n",
      " 8   end_station_name         174952 non-null  object        \n",
      " 9   end_station_latitude     174952 non-null  float64       \n",
      " 10  end_station_longitude    174952 non-null  float64       \n",
      " 11  bike_id                  174952 non-null  int64         \n",
      " 12  user_type                174952 non-null  object        \n",
      " 13  member_birth_year        174952 non-null  float64       \n",
      " 14  member_gender            174952 non-null  object        \n",
      " 15  bike_share_for_all_trip  174952 non-null  object        \n",
      " 16  start_year               174952 non-null  int64         \n",
      " 17  end_year                 174952 non-null  int64         \n",
      " 18  start_month              174952 non-null  object        \n",
      " 19  end_month                174952 non-null  object        \n",
      " 20  start_weekday            174952 non-null  object        \n",
      " 21  end_weekday              174952 non-null  object        \n",
      " 22  start_hour               174952 non-null  int64         \n",
      "dtypes: datetime64[ns](2), float64(8), int64(4), object(9)\n",
      "memory usage: 32.0+ MB\n"
     ]
    }
   ],
   "source": [
    "#lets check it out\n",
    "df2.info()"
   ]
  },
  {
   "cell_type": "markdown",
   "id": "7c8ddcd3",
   "metadata": {},
   "source": [
    "# Define"
   ]
  },
  {
   "cell_type": "raw",
   "id": "32e71b38",
   "metadata": {},
   "source": [
    "Get the users that were born after 1925"
   ]
  },
  {
   "cell_type": "markdown",
   "id": "899bb8ff",
   "metadata": {},
   "source": [
    "# Code"
   ]
  },
  {
   "cell_type": "code",
   "execution_count": 32,
   "id": "f2bd6374",
   "metadata": {},
   "outputs": [
    {
     "name": "stderr",
     "output_type": "stream",
     "text": [
      "C:\\Users\\user\\AppData\\Local\\Temp/ipykernel_17016/3402351106.py:2: UserWarning: Boolean Series key will be reindexed to match DataFrame index.\n",
      "  age = df2[df.member_birth_year > 1925]\n"
     ]
    },
    {
     "data": {
      "text/html": [
       "<div>\n",
       "<style scoped>\n",
       "    .dataframe tbody tr th:only-of-type {\n",
       "        vertical-align: middle;\n",
       "    }\n",
       "\n",
       "    .dataframe tbody tr th {\n",
       "        vertical-align: top;\n",
       "    }\n",
       "\n",
       "    .dataframe thead th {\n",
       "        text-align: right;\n",
       "    }\n",
       "</style>\n",
       "<table border=\"1\" class=\"dataframe\">\n",
       "  <thead>\n",
       "    <tr style=\"text-align: right;\">\n",
       "      <th></th>\n",
       "      <th>duration_hour</th>\n",
       "      <th>start_time</th>\n",
       "      <th>end_time</th>\n",
       "      <th>start_station_id</th>\n",
       "      <th>start_station_name</th>\n",
       "      <th>start_station_latitude</th>\n",
       "      <th>start_station_longitude</th>\n",
       "      <th>end_station_id</th>\n",
       "      <th>end_station_name</th>\n",
       "      <th>end_station_latitude</th>\n",
       "      <th>...</th>\n",
       "      <th>member_birth_year</th>\n",
       "      <th>member_gender</th>\n",
       "      <th>bike_share_for_all_trip</th>\n",
       "      <th>start_year</th>\n",
       "      <th>end_year</th>\n",
       "      <th>start_month</th>\n",
       "      <th>end_month</th>\n",
       "      <th>start_weekday</th>\n",
       "      <th>end_weekday</th>\n",
       "      <th>start_hour</th>\n",
       "    </tr>\n",
       "  </thead>\n",
       "  <tbody>\n",
       "    <tr>\n",
       "      <th>0</th>\n",
       "      <td>869.750000</td>\n",
       "      <td>2019-02-28 17:32:10.145</td>\n",
       "      <td>2019-03-01 08:01:55.975</td>\n",
       "      <td>21.0</td>\n",
       "      <td>Montgomery St BART Station (Market St at 2nd St)</td>\n",
       "      <td>37.789625</td>\n",
       "      <td>-122.400811</td>\n",
       "      <td>13.0</td>\n",
       "      <td>Commercial St at Montgomery St</td>\n",
       "      <td>37.794231</td>\n",
       "      <td>...</td>\n",
       "      <td>1984.0</td>\n",
       "      <td>Male</td>\n",
       "      <td>No</td>\n",
       "      <td>2019</td>\n",
       "      <td>2019</td>\n",
       "      <td>February</td>\n",
       "      <td>February</td>\n",
       "      <td>Thursday</td>\n",
       "      <td>Thursday</td>\n",
       "      <td>17</td>\n",
       "    </tr>\n",
       "    <tr>\n",
       "      <th>2</th>\n",
       "      <td>1030.900000</td>\n",
       "      <td>2019-02-28 12:13:13.218</td>\n",
       "      <td>2019-03-01 05:24:08.146</td>\n",
       "      <td>86.0</td>\n",
       "      <td>Market St at Dolores St</td>\n",
       "      <td>37.769305</td>\n",
       "      <td>-122.426826</td>\n",
       "      <td>3.0</td>\n",
       "      <td>Powell St BART Station (Market St at 4th St)</td>\n",
       "      <td>37.786375</td>\n",
       "      <td>...</td>\n",
       "      <td>1972.0</td>\n",
       "      <td>Male</td>\n",
       "      <td>No</td>\n",
       "      <td>2019</td>\n",
       "      <td>2019</td>\n",
       "      <td>February</td>\n",
       "      <td>February</td>\n",
       "      <td>Thursday</td>\n",
       "      <td>Thursday</td>\n",
       "      <td>12</td>\n",
       "    </tr>\n",
       "    <tr>\n",
       "      <th>3</th>\n",
       "      <td>608.166667</td>\n",
       "      <td>2019-02-28 17:54:26.010</td>\n",
       "      <td>2019-03-01 04:02:36.842</td>\n",
       "      <td>375.0</td>\n",
       "      <td>Grove St at Masonic Ave</td>\n",
       "      <td>37.774836</td>\n",
       "      <td>-122.446546</td>\n",
       "      <td>70.0</td>\n",
       "      <td>Central Ave at Fell St</td>\n",
       "      <td>37.773311</td>\n",
       "      <td>...</td>\n",
       "      <td>1989.0</td>\n",
       "      <td>Other</td>\n",
       "      <td>No</td>\n",
       "      <td>2019</td>\n",
       "      <td>2019</td>\n",
       "      <td>February</td>\n",
       "      <td>February</td>\n",
       "      <td>Thursday</td>\n",
       "      <td>Thursday</td>\n",
       "      <td>17</td>\n",
       "    </tr>\n",
       "    <tr>\n",
       "      <th>4</th>\n",
       "      <td>26.416667</td>\n",
       "      <td>2019-02-28 23:54:18.549</td>\n",
       "      <td>2019-03-01 00:20:44.074</td>\n",
       "      <td>7.0</td>\n",
       "      <td>Frank H Ogawa Plaza</td>\n",
       "      <td>37.804562</td>\n",
       "      <td>-122.271738</td>\n",
       "      <td>222.0</td>\n",
       "      <td>10th Ave at E 15th St</td>\n",
       "      <td>37.792714</td>\n",
       "      <td>...</td>\n",
       "      <td>1974.0</td>\n",
       "      <td>Male</td>\n",
       "      <td>Yes</td>\n",
       "      <td>2019</td>\n",
       "      <td>2019</td>\n",
       "      <td>February</td>\n",
       "      <td>February</td>\n",
       "      <td>Thursday</td>\n",
       "      <td>Thursday</td>\n",
       "      <td>23</td>\n",
       "    </tr>\n",
       "    <tr>\n",
       "      <th>5</th>\n",
       "      <td>29.883333</td>\n",
       "      <td>2019-02-28 23:49:58.632</td>\n",
       "      <td>2019-03-01 00:19:51.760</td>\n",
       "      <td>93.0</td>\n",
       "      <td>4th St at Mission Bay Blvd S</td>\n",
       "      <td>37.770407</td>\n",
       "      <td>-122.391198</td>\n",
       "      <td>323.0</td>\n",
       "      <td>Broadway at Kearny</td>\n",
       "      <td>37.798014</td>\n",
       "      <td>...</td>\n",
       "      <td>1959.0</td>\n",
       "      <td>Male</td>\n",
       "      <td>No</td>\n",
       "      <td>2019</td>\n",
       "      <td>2019</td>\n",
       "      <td>February</td>\n",
       "      <td>February</td>\n",
       "      <td>Thursday</td>\n",
       "      <td>Thursday</td>\n",
       "      <td>23</td>\n",
       "    </tr>\n",
       "    <tr>\n",
       "      <th>...</th>\n",
       "      <td>...</td>\n",
       "      <td>...</td>\n",
       "      <td>...</td>\n",
       "      <td>...</td>\n",
       "      <td>...</td>\n",
       "      <td>...</td>\n",
       "      <td>...</td>\n",
       "      <td>...</td>\n",
       "      <td>...</td>\n",
       "      <td>...</td>\n",
       "      <td>...</td>\n",
       "      <td>...</td>\n",
       "      <td>...</td>\n",
       "      <td>...</td>\n",
       "      <td>...</td>\n",
       "      <td>...</td>\n",
       "      <td>...</td>\n",
       "      <td>...</td>\n",
       "      <td>...</td>\n",
       "      <td>...</td>\n",
       "      <td>...</td>\n",
       "    </tr>\n",
       "    <tr>\n",
       "      <th>183407</th>\n",
       "      <td>8.000000</td>\n",
       "      <td>2019-02-01 00:04:49.724</td>\n",
       "      <td>2019-02-01 00:12:50.034</td>\n",
       "      <td>27.0</td>\n",
       "      <td>Beale St at Harrison St</td>\n",
       "      <td>37.788059</td>\n",
       "      <td>-122.391865</td>\n",
       "      <td>324.0</td>\n",
       "      <td>Union Square (Powell St at Post St)</td>\n",
       "      <td>37.788300</td>\n",
       "      <td>...</td>\n",
       "      <td>1996.0</td>\n",
       "      <td>Male</td>\n",
       "      <td>No</td>\n",
       "      <td>2019</td>\n",
       "      <td>2019</td>\n",
       "      <td>February</td>\n",
       "      <td>February</td>\n",
       "      <td>Friday</td>\n",
       "      <td>Friday</td>\n",
       "      <td>0</td>\n",
       "    </tr>\n",
       "    <tr>\n",
       "      <th>183408</th>\n",
       "      <td>5.216667</td>\n",
       "      <td>2019-02-01 00:05:34.744</td>\n",
       "      <td>2019-02-01 00:10:48.502</td>\n",
       "      <td>21.0</td>\n",
       "      <td>Montgomery St BART Station (Market St at 2nd St)</td>\n",
       "      <td>37.789625</td>\n",
       "      <td>-122.400811</td>\n",
       "      <td>66.0</td>\n",
       "      <td>3rd St at Townsend St</td>\n",
       "      <td>37.778742</td>\n",
       "      <td>...</td>\n",
       "      <td>1984.0</td>\n",
       "      <td>Male</td>\n",
       "      <td>No</td>\n",
       "      <td>2019</td>\n",
       "      <td>2019</td>\n",
       "      <td>February</td>\n",
       "      <td>February</td>\n",
       "      <td>Friday</td>\n",
       "      <td>Friday</td>\n",
       "      <td>0</td>\n",
       "    </tr>\n",
       "    <tr>\n",
       "      <th>183409</th>\n",
       "      <td>2.350000</td>\n",
       "      <td>2019-02-01 00:06:05.549</td>\n",
       "      <td>2019-02-01 00:08:27.220</td>\n",
       "      <td>278.0</td>\n",
       "      <td>The Alameda at Bush St</td>\n",
       "      <td>37.331932</td>\n",
       "      <td>-121.904888</td>\n",
       "      <td>277.0</td>\n",
       "      <td>Morrison Ave at Julian St</td>\n",
       "      <td>37.333658</td>\n",
       "      <td>...</td>\n",
       "      <td>1990.0</td>\n",
       "      <td>Male</td>\n",
       "      <td>Yes</td>\n",
       "      <td>2019</td>\n",
       "      <td>2019</td>\n",
       "      <td>February</td>\n",
       "      <td>February</td>\n",
       "      <td>Friday</td>\n",
       "      <td>Friday</td>\n",
       "      <td>0</td>\n",
       "    </tr>\n",
       "    <tr>\n",
       "      <th>183410</th>\n",
       "      <td>2.316667</td>\n",
       "      <td>2019-02-01 00:05:34.360</td>\n",
       "      <td>2019-02-01 00:07:54.287</td>\n",
       "      <td>220.0</td>\n",
       "      <td>San Pablo Ave at MLK Jr Way</td>\n",
       "      <td>37.811351</td>\n",
       "      <td>-122.273422</td>\n",
       "      <td>216.0</td>\n",
       "      <td>San Pablo Ave at 27th St</td>\n",
       "      <td>37.817827</td>\n",
       "      <td>...</td>\n",
       "      <td>1988.0</td>\n",
       "      <td>Male</td>\n",
       "      <td>No</td>\n",
       "      <td>2019</td>\n",
       "      <td>2019</td>\n",
       "      <td>February</td>\n",
       "      <td>February</td>\n",
       "      <td>Friday</td>\n",
       "      <td>Friday</td>\n",
       "      <td>0</td>\n",
       "    </tr>\n",
       "    <tr>\n",
       "      <th>183411</th>\n",
       "      <td>4.516667</td>\n",
       "      <td>2019-02-01 00:00:20.636</td>\n",
       "      <td>2019-02-01 00:04:52.058</td>\n",
       "      <td>24.0</td>\n",
       "      <td>Spear St at Folsom St</td>\n",
       "      <td>37.789677</td>\n",
       "      <td>-122.390428</td>\n",
       "      <td>37.0</td>\n",
       "      <td>2nd St at Folsom St</td>\n",
       "      <td>37.785000</td>\n",
       "      <td>...</td>\n",
       "      <td>1989.0</td>\n",
       "      <td>Male</td>\n",
       "      <td>No</td>\n",
       "      <td>2019</td>\n",
       "      <td>2019</td>\n",
       "      <td>February</td>\n",
       "      <td>February</td>\n",
       "      <td>Friday</td>\n",
       "      <td>Friday</td>\n",
       "      <td>0</td>\n",
       "    </tr>\n",
       "  </tbody>\n",
       "</table>\n",
       "<p>174877 rows × 23 columns</p>\n",
       "</div>"
      ],
      "text/plain": [
       "        duration_hour              start_time                end_time  \\\n",
       "0          869.750000 2019-02-28 17:32:10.145 2019-03-01 08:01:55.975   \n",
       "2         1030.900000 2019-02-28 12:13:13.218 2019-03-01 05:24:08.146   \n",
       "3          608.166667 2019-02-28 17:54:26.010 2019-03-01 04:02:36.842   \n",
       "4           26.416667 2019-02-28 23:54:18.549 2019-03-01 00:20:44.074   \n",
       "5           29.883333 2019-02-28 23:49:58.632 2019-03-01 00:19:51.760   \n",
       "...               ...                     ...                     ...   \n",
       "183407       8.000000 2019-02-01 00:04:49.724 2019-02-01 00:12:50.034   \n",
       "183408       5.216667 2019-02-01 00:05:34.744 2019-02-01 00:10:48.502   \n",
       "183409       2.350000 2019-02-01 00:06:05.549 2019-02-01 00:08:27.220   \n",
       "183410       2.316667 2019-02-01 00:05:34.360 2019-02-01 00:07:54.287   \n",
       "183411       4.516667 2019-02-01 00:00:20.636 2019-02-01 00:04:52.058   \n",
       "\n",
       "        start_station_id                                start_station_name  \\\n",
       "0                   21.0  Montgomery St BART Station (Market St at 2nd St)   \n",
       "2                   86.0                           Market St at Dolores St   \n",
       "3                  375.0                           Grove St at Masonic Ave   \n",
       "4                    7.0                               Frank H Ogawa Plaza   \n",
       "5                   93.0                      4th St at Mission Bay Blvd S   \n",
       "...                  ...                                               ...   \n",
       "183407              27.0                           Beale St at Harrison St   \n",
       "183408              21.0  Montgomery St BART Station (Market St at 2nd St)   \n",
       "183409             278.0                            The Alameda at Bush St   \n",
       "183410             220.0                       San Pablo Ave at MLK Jr Way   \n",
       "183411              24.0                             Spear St at Folsom St   \n",
       "\n",
       "        start_station_latitude  start_station_longitude  end_station_id  \\\n",
       "0                    37.789625              -122.400811            13.0   \n",
       "2                    37.769305              -122.426826             3.0   \n",
       "3                    37.774836              -122.446546            70.0   \n",
       "4                    37.804562              -122.271738           222.0   \n",
       "5                    37.770407              -122.391198           323.0   \n",
       "...                        ...                      ...             ...   \n",
       "183407               37.788059              -122.391865           324.0   \n",
       "183408               37.789625              -122.400811            66.0   \n",
       "183409               37.331932              -121.904888           277.0   \n",
       "183410               37.811351              -122.273422           216.0   \n",
       "183411               37.789677              -122.390428            37.0   \n",
       "\n",
       "                                    end_station_name  end_station_latitude  \\\n",
       "0                     Commercial St at Montgomery St             37.794231   \n",
       "2       Powell St BART Station (Market St at 4th St)             37.786375   \n",
       "3                             Central Ave at Fell St             37.773311   \n",
       "4                              10th Ave at E 15th St             37.792714   \n",
       "5                                 Broadway at Kearny             37.798014   \n",
       "...                                              ...                   ...   \n",
       "183407           Union Square (Powell St at Post St)             37.788300   \n",
       "183408                         3rd St at Townsend St             37.778742   \n",
       "183409                     Morrison Ave at Julian St             37.333658   \n",
       "183410                      San Pablo Ave at 27th St             37.817827   \n",
       "183411                           2nd St at Folsom St             37.785000   \n",
       "\n",
       "        ...  member_birth_year  member_gender bike_share_for_all_trip  \\\n",
       "0       ...             1984.0           Male                      No   \n",
       "2       ...             1972.0           Male                      No   \n",
       "3       ...             1989.0          Other                      No   \n",
       "4       ...             1974.0           Male                     Yes   \n",
       "5       ...             1959.0           Male                      No   \n",
       "...     ...                ...            ...                     ...   \n",
       "183407  ...             1996.0           Male                      No   \n",
       "183408  ...             1984.0           Male                      No   \n",
       "183409  ...             1990.0           Male                     Yes   \n",
       "183410  ...             1988.0           Male                      No   \n",
       "183411  ...             1989.0           Male                      No   \n",
       "\n",
       "        start_year end_year start_month  end_month  start_weekday end_weekday  \\\n",
       "0             2019     2019    February   February       Thursday    Thursday   \n",
       "2             2019     2019    February   February       Thursday    Thursday   \n",
       "3             2019     2019    February   February       Thursday    Thursday   \n",
       "4             2019     2019    February   February       Thursday    Thursday   \n",
       "5             2019     2019    February   February       Thursday    Thursday   \n",
       "...            ...      ...         ...        ...            ...         ...   \n",
       "183407        2019     2019    February   February         Friday      Friday   \n",
       "183408        2019     2019    February   February         Friday      Friday   \n",
       "183409        2019     2019    February   February         Friday      Friday   \n",
       "183410        2019     2019    February   February         Friday      Friday   \n",
       "183411        2019     2019    February   February         Friday      Friday   \n",
       "\n",
       "       start_hour  \n",
       "0              17  \n",
       "2              12  \n",
       "3              17  \n",
       "4              23  \n",
       "5              23  \n",
       "...           ...  \n",
       "183407          0  \n",
       "183408          0  \n",
       "183409          0  \n",
       "183410          0  \n",
       "183411          0  \n",
       "\n",
       "[174877 rows x 23 columns]"
      ]
     },
     "execution_count": 32,
     "metadata": {},
     "output_type": "execute_result"
    }
   ],
   "source": [
    "#Get the users that were born after 1925\n",
    "age = df2[df.member_birth_year > 1925]\n",
    "age"
   ]
  },
  {
   "cell_type": "code",
   "execution_count": 33,
   "id": "ccb75cd9",
   "metadata": {},
   "outputs": [
    {
     "data": {
      "text/plain": [
       "(174952, 23)"
      ]
     },
     "execution_count": 33,
     "metadata": {},
     "output_type": "execute_result"
    }
   ],
   "source": [
    "#lets check it out\n",
    "df2.shape"
   ]
  },
  {
   "cell_type": "markdown",
   "id": "d753fe72",
   "metadata": {},
   "source": [
    "# Define"
   ]
  },
  {
   "cell_type": "raw",
   "id": "e988be9d",
   "metadata": {},
   "source": [
    "Drop users who were born before 1925"
   ]
  },
  {
   "cell_type": "markdown",
   "id": "53838eb8",
   "metadata": {},
   "source": [
    "# Code"
   ]
  },
  {
   "cell_type": "code",
   "execution_count": 34,
   "id": "8a1680ca",
   "metadata": {},
   "outputs": [],
   "source": [
    "#Drop users who were born before 1925\n",
    "df2.drop(df2[(df2.member_birth_year < 1925)].index, inplace = True)"
   ]
  },
  {
   "cell_type": "markdown",
   "id": "7b74cf67",
   "metadata": {},
   "source": [
    "# Test"
   ]
  },
  {
   "cell_type": "code",
   "execution_count": 35,
   "id": "29907867",
   "metadata": {},
   "outputs": [
    {
     "data": {
      "text/plain": [
       "(174877, 23)"
      ]
     },
     "execution_count": 35,
     "metadata": {},
     "output_type": "execute_result"
    }
   ],
   "source": [
    "#check it out\n",
    "sum(df2.member_birth_year < 1925)\n",
    "df2.shape"
   ]
  },
  {
   "cell_type": "code",
   "execution_count": 31,
   "id": "d5fce5b6",
   "metadata": {},
   "outputs": [
    {
     "data": {
      "text/plain": [
       "(174877, 23)"
      ]
     },
     "execution_count": 31,
     "metadata": {},
     "output_type": "execute_result"
    }
   ],
   "source": [
    "df2.shape"
   ]
  },
  {
   "cell_type": "markdown",
   "id": "e4b79983",
   "metadata": {},
   "source": [
    "# Define"
   ]
  },
  {
   "cell_type": "raw",
   "id": "29ec3a9c",
   "metadata": {},
   "source": [
    "Create Age column and extract the age of users"
   ]
  },
  {
   "cell_type": "markdown",
   "id": "c8f9f9aa",
   "metadata": {},
   "source": [
    "# Code"
   ]
  },
  {
   "cell_type": "code",
   "execution_count": 36,
   "id": "a839b857",
   "metadata": {},
   "outputs": [],
   "source": [
    "#Create Age column and extract the age of users\n",
    "df2['Age'] = 2022 - df2.member_birth_year"
   ]
  },
  {
   "cell_type": "markdown",
   "id": "fd104a15",
   "metadata": {},
   "source": [
    "# Test"
   ]
  },
  {
   "cell_type": "code",
   "execution_count": 37,
   "id": "ec618604",
   "metadata": {},
   "outputs": [
    {
     "data": {
      "text/html": [
       "<div>\n",
       "<style scoped>\n",
       "    .dataframe tbody tr th:only-of-type {\n",
       "        vertical-align: middle;\n",
       "    }\n",
       "\n",
       "    .dataframe tbody tr th {\n",
       "        vertical-align: top;\n",
       "    }\n",
       "\n",
       "    .dataframe thead th {\n",
       "        text-align: right;\n",
       "    }\n",
       "</style>\n",
       "<table border=\"1\" class=\"dataframe\">\n",
       "  <thead>\n",
       "    <tr style=\"text-align: right;\">\n",
       "      <th></th>\n",
       "      <th>duration_hour</th>\n",
       "      <th>start_time</th>\n",
       "      <th>end_time</th>\n",
       "      <th>start_station_id</th>\n",
       "      <th>start_station_name</th>\n",
       "      <th>start_station_latitude</th>\n",
       "      <th>start_station_longitude</th>\n",
       "      <th>end_station_id</th>\n",
       "      <th>end_station_name</th>\n",
       "      <th>end_station_latitude</th>\n",
       "      <th>...</th>\n",
       "      <th>member_gender</th>\n",
       "      <th>bike_share_for_all_trip</th>\n",
       "      <th>start_year</th>\n",
       "      <th>end_year</th>\n",
       "      <th>start_month</th>\n",
       "      <th>end_month</th>\n",
       "      <th>start_weekday</th>\n",
       "      <th>end_weekday</th>\n",
       "      <th>start_hour</th>\n",
       "      <th>Age</th>\n",
       "    </tr>\n",
       "  </thead>\n",
       "  <tbody>\n",
       "    <tr>\n",
       "      <th>182833</th>\n",
       "      <td>3.316667</td>\n",
       "      <td>2019-02-01 07:48:19.878</td>\n",
       "      <td>2019-02-01 07:51:39.699</td>\n",
       "      <td>17.0</td>\n",
       "      <td>Embarcadero BART Station (Beale St at Market St)</td>\n",
       "      <td>37.792251</td>\n",
       "      <td>-122.397086</td>\n",
       "      <td>28.0</td>\n",
       "      <td>The Embarcadero at Bryant St</td>\n",
       "      <td>37.787168</td>\n",
       "      <td>...</td>\n",
       "      <td>Male</td>\n",
       "      <td>No</td>\n",
       "      <td>2019</td>\n",
       "      <td>2019</td>\n",
       "      <td>February</td>\n",
       "      <td>February</td>\n",
       "      <td>Friday</td>\n",
       "      <td>Friday</td>\n",
       "      <td>7</td>\n",
       "      <td>66.0</td>\n",
       "    </tr>\n",
       "  </tbody>\n",
       "</table>\n",
       "<p>1 rows × 24 columns</p>\n",
       "</div>"
      ],
      "text/plain": [
       "        duration_hour              start_time                end_time  \\\n",
       "182833       3.316667 2019-02-01 07:48:19.878 2019-02-01 07:51:39.699   \n",
       "\n",
       "        start_station_id                                start_station_name  \\\n",
       "182833              17.0  Embarcadero BART Station (Beale St at Market St)   \n",
       "\n",
       "        start_station_latitude  start_station_longitude  end_station_id  \\\n",
       "182833               37.792251              -122.397086            28.0   \n",
       "\n",
       "                    end_station_name  end_station_latitude  ...  \\\n",
       "182833  The Embarcadero at Bryant St             37.787168  ...   \n",
       "\n",
       "        member_gender  bike_share_for_all_trip start_year  end_year  \\\n",
       "182833           Male                       No       2019      2019   \n",
       "\n",
       "       start_month end_month  start_weekday  end_weekday start_hour   Age  \n",
       "182833    February  February         Friday       Friday          7  66.0  \n",
       "\n",
       "[1 rows x 24 columns]"
      ]
     },
     "execution_count": 37,
     "metadata": {},
     "output_type": "execute_result"
    }
   ],
   "source": [
    "df2.sample()"
   ]
  },
  {
   "cell_type": "markdown",
   "id": "928a6bcb",
   "metadata": {},
   "source": [
    "# Define"
   ]
  },
  {
   "cell_type": "raw",
   "id": "60e5239c",
   "metadata": {},
   "source": [
    "Delete the unusefull columns"
   ]
  },
  {
   "cell_type": "markdown",
   "id": "5817c362",
   "metadata": {},
   "source": [
    "# Code"
   ]
  },
  {
   "cell_type": "code",
   "execution_count": 38,
   "id": "5527a0d6",
   "metadata": {},
   "outputs": [],
   "source": [
    "#Delete the unusefull columns\n",
    "df2 = df2.drop(['start_station_id','start_station_name','start_time','end_time','bike_id','start_station_latitude','start_station_longitude', 'end_station_id',\n",
    "         'end_station_name', 'end_station_latitude', 'end_station_longitude','member_birth_year','start_station_id'], axis =1)"
   ]
  },
  {
   "cell_type": "markdown",
   "id": "c562f94b",
   "metadata": {},
   "source": [
    "# Test"
   ]
  },
  {
   "cell_type": "code",
   "execution_count": 39,
   "id": "9e958176",
   "metadata": {},
   "outputs": [
    {
     "data": {
      "text/html": [
       "<div>\n",
       "<style scoped>\n",
       "    .dataframe tbody tr th:only-of-type {\n",
       "        vertical-align: middle;\n",
       "    }\n",
       "\n",
       "    .dataframe tbody tr th {\n",
       "        vertical-align: top;\n",
       "    }\n",
       "\n",
       "    .dataframe thead th {\n",
       "        text-align: right;\n",
       "    }\n",
       "</style>\n",
       "<table border=\"1\" class=\"dataframe\">\n",
       "  <thead>\n",
       "    <tr style=\"text-align: right;\">\n",
       "      <th></th>\n",
       "      <th>duration_hour</th>\n",
       "      <th>user_type</th>\n",
       "      <th>member_gender</th>\n",
       "      <th>bike_share_for_all_trip</th>\n",
       "      <th>start_year</th>\n",
       "      <th>end_year</th>\n",
       "      <th>start_month</th>\n",
       "      <th>end_month</th>\n",
       "      <th>start_weekday</th>\n",
       "      <th>end_weekday</th>\n",
       "      <th>start_hour</th>\n",
       "      <th>Age</th>\n",
       "    </tr>\n",
       "  </thead>\n",
       "  <tbody>\n",
       "    <tr>\n",
       "      <th>64121</th>\n",
       "      <td>10.683333</td>\n",
       "      <td>Subscriber</td>\n",
       "      <td>Male</td>\n",
       "      <td>No</td>\n",
       "      <td>2019</td>\n",
       "      <td>2019</td>\n",
       "      <td>February</td>\n",
       "      <td>February</td>\n",
       "      <td>Wednesday</td>\n",
       "      <td>Wednesday</td>\n",
       "      <td>12</td>\n",
       "      <td>39.0</td>\n",
       "    </tr>\n",
       "    <tr>\n",
       "      <th>46571</th>\n",
       "      <td>7.233333</td>\n",
       "      <td>Subscriber</td>\n",
       "      <td>Male</td>\n",
       "      <td>No</td>\n",
       "      <td>2019</td>\n",
       "      <td>2019</td>\n",
       "      <td>February</td>\n",
       "      <td>February</td>\n",
       "      <td>Friday</td>\n",
       "      <td>Friday</td>\n",
       "      <td>9</td>\n",
       "      <td>34.0</td>\n",
       "    </tr>\n",
       "  </tbody>\n",
       "</table>\n",
       "</div>"
      ],
      "text/plain": [
       "       duration_hour   user_type member_gender bike_share_for_all_trip  \\\n",
       "64121      10.683333  Subscriber          Male                      No   \n",
       "46571       7.233333  Subscriber          Male                      No   \n",
       "\n",
       "       start_year  end_year start_month end_month start_weekday end_weekday  \\\n",
       "64121        2019      2019    February  February     Wednesday   Wednesday   \n",
       "46571        2019      2019    February  February        Friday      Friday   \n",
       "\n",
       "       start_hour   Age  \n",
       "64121          12  39.0  \n",
       "46571           9  34.0  "
      ]
     },
     "execution_count": 39,
     "metadata": {},
     "output_type": "execute_result"
    }
   ],
   "source": [
    "#check it out\n",
    "df2.sample(2)"
   ]
  },
  {
   "cell_type": "code",
   "execution_count": 40,
   "id": "366e2a9c",
   "metadata": {},
   "outputs": [
    {
     "data": {
      "text/plain": [
       "['duration_hour',\n",
       " 'user_type',\n",
       " 'member_gender',\n",
       " 'bike_share_for_all_trip',\n",
       " 'start_year',\n",
       " 'end_year',\n",
       " 'start_month',\n",
       " 'end_month',\n",
       " 'start_weekday',\n",
       " 'end_weekday',\n",
       " 'start_hour',\n",
       " 'Age']"
      ]
     },
     "execution_count": 40,
     "metadata": {},
     "output_type": "execute_result"
    }
   ],
   "source": [
    "list(df2)"
   ]
  },
  {
   "cell_type": "markdown",
   "id": "0ae4d5b0",
   "metadata": {},
   "source": [
    "# Data Exploration"
   ]
  },
  {
   "cell_type": "raw",
   "id": "57bce623",
   "metadata": {},
   "source": [
    "We are going to explore the data in Univariate, Bivariate and Multivariate"
   ]
  },
  {
   "cell_type": "markdown",
   "id": "20e792fb",
   "metadata": {},
   "source": [
    "# Univariate Exploration"
   ]
  },
  {
   "cell_type": "markdown",
   "id": "2507b38e",
   "metadata": {},
   "source": [
    "##### Lets check which of the day has more patronage"
   ]
  },
  {
   "cell_type": "code",
   "execution_count": 41,
   "id": "d0b4241f",
   "metadata": {
    "scrolled": true
   },
   "outputs": [
    {
     "data": {
      "text/plain": [
       "Text(0.5, 1.0, 'BIKE USERS DAILY TRIP COUNT')"
      ]
     },
     "execution_count": 41,
     "metadata": {},
     "output_type": "execute_result"
    },
    {
     "data": {
      "image/png": "[encoded data removed]",
      "text/plain": [
       "<Figure size 432x288 with 1 Axes>"
      ]
     },
     "metadata": {
      "needs_background": "light"
     },
     "output_type": "display_data"
    }
   ],
   "source": [
    "in_order = ''\n",
    "ax = snb.countplot( data = df2, y = 'start_weekday', order = ['Thursday','Tuesday','Wednesday','Friday','Monday', 'Sunday', 'Sunday'])\n",
    "plt.title('BIKE USERS DAILY TRIP COUNT')"
   ]
  },
  {
   "cell_type": "raw",
   "id": "1a54f1e6",
   "metadata": {},
   "source": [
    "Considering frequency of when bike users start the trip,\n",
    "Bike users use more bike on thursday followed by tuesday but however, bike users have lesser patronage during the weekend\n",
    "which means users hardly goes out during weekend"
   ]
  },
  {
   "cell_type": "code",
   "execution_count": 42,
   "id": "d251d5f1",
   "metadata": {},
   "outputs": [
    {
     "data": {
      "text/plain": [
       "Text(0.5, 1.0, 'BIKE USERS END DAYS WITH COUNT')"
      ]
     },
     "execution_count": 42,
     "metadata": {},
     "output_type": "execute_result"
    },
    {
     "data": {
      "image/png": "[encoded data removed]",
      "text/plain": [
       "<Figure size 432x288 with 1 Axes>"
      ]
     },
     "metadata": {
      "needs_background": "light"
     },
     "output_type": "display_data"
    }
   ],
   "source": [
    "in_order = ''\n",
    "ax = snb.countplot( data = df2, y = 'end_weekday', order = ['Thursday','Tuesday','Wednesday','Friday','Monday', 'Sunday', 'Sunday'])\n",
    "plt.title('BIKE USERS END DAYS WITH COUNT')"
   ]
  },
  {
   "cell_type": "raw",
   "id": "e0f55820",
   "metadata": {},
   "source": [
    "Considering frequency of when bike users ends the trip,\n",
    "Bike users use more bike on thursday followed by tuesday but however, bike users have lesser patronage during the weekend\n",
    "which means users hardly goes out during weekend"
   ]
  },
  {
   "cell_type": "markdown",
   "id": "d802cc91",
   "metadata": {},
   "source": [
    "##### Lets check the month with highest patronage for both start & end month, "
   ]
  },
  {
   "cell_type": "code",
   "execution_count": 43,
   "id": "7bb3f6ee",
   "metadata": {},
   "outputs": [
    {
     "data": {
      "text/plain": [
       "Text(0.5, 1.0, 'BIKE USERS START_MONTH WITH HIHEST PATRONAGE')"
      ]
     },
     "execution_count": 43,
     "metadata": {},
     "output_type": "execute_result"
    },
    {
     "data": {
      "image/png": "[encoded data removed]",
      "text/plain": [
       "<Figure size 432x288 with 1 Axes>"
      ]
     },
     "metadata": {
      "needs_background": "light"
     },
     "output_type": "display_data"
    }
   ],
   "source": [
    "#\n",
    "in_order = ''\n",
    "ax = snb.countplot( data = df2, y = 'start_month')\n",
    "plt.title('BIKE USERS START_MONTH WITH HIHEST PATRONAGE')"
   ]
  },
  {
   "cell_type": "code",
   "execution_count": 44,
   "id": "5aedff0f",
   "metadata": {},
   "outputs": [
    {
     "data": {
      "image/png": "[encoded data removed]",
      "text/plain": [
       "<Figure size 432x288 with 1 Axes>"
      ]
     },
     "metadata": {
      "needs_background": "light"
     },
     "output_type": "display_data"
    }
   ],
   "source": [
    "in_order = ''\n",
    "ax = snb.countplot( data = df2, x = 'end_month')\n",
    "plt.title('BIKE USERS END_MONTH WITH HIHEST PATRONAGE')\n",
    "total = len(df2)\n",
    "for i in ax.patches:\n",
    "    pct ='{:.3f}%'.format(100*i.get_height()/total)\n",
    "    x = i.get_x() + i.get_width()/2\n",
    "    y = i.get_height()+0.5\n",
    "    ax.annotate(pct,(x,y), ha = 'center')\n",
    "plt.show()"
   ]
  },
  {
   "cell_type": "raw",
   "id": "0551b87d",
   "metadata": {},
   "source": [
    "As we can see all the trip started and ends in January"
   ]
  },
  {
   "cell_type": "markdown",
   "id": "f27cf007",
   "metadata": {},
   "source": [
    "##### Lets check the month with highest patronage for both start & end YEAR, "
   ]
  },
  {
   "cell_type": "code",
   "execution_count": 45,
   "id": "d33ffac7",
   "metadata": {},
   "outputs": [
    {
     "data": {
      "text/plain": [
       "Text(0.5, 1.0, 'BIKE USERS START YEAR WITH HIGHEST PATRONAGE')"
      ]
     },
     "execution_count": 45,
     "metadata": {},
     "output_type": "execute_result"
    },
    {
     "data": {
      "image/png": "[encoded data removed]",
      "text/plain": [
       "<Figure size 432x288 with 1 Axes>"
      ]
     },
     "metadata": {
      "needs_background": "light"
     },
     "output_type": "display_data"
    }
   ],
   "source": [
    "in_order = ''\n",
    "ax = snb.countplot( data = df2, y = 'start_year')\n",
    "plt.title('BIKE USERS START YEAR WITH HIGHEST PATRONAGE')"
   ]
  },
  {
   "cell_type": "code",
   "execution_count": 46,
   "id": "d7120cc8",
   "metadata": {},
   "outputs": [
    {
     "data": {
      "text/plain": [
       "Text(0.5, 1.0, 'BIKE USERS END_YEAR WITH HIHEST PATRONAGE')"
      ]
     },
     "execution_count": 46,
     "metadata": {},
     "output_type": "execute_result"
    },
    {
     "data": {
      "image/png": "[encoded data removed]",
      "text/plain": [
       "<Figure size 432x288 with 1 Axes>"
      ]
     },
     "metadata": {
      "needs_background": "light"
     },
     "output_type": "display_data"
    }
   ],
   "source": [
    "#check the frequency of the endyear column\n",
    "in_order = ''\n",
    "ax = snb.countplot( data = df2, y = 'end_year')\n",
    "plt.title('BIKE USERS END_YEAR WITH HIHEST PATRONAGE')"
   ]
  },
  {
   "cell_type": "raw",
   "id": "a547c338",
   "metadata": {},
   "source": [
    "Most of the trip started and ends in 2019"
   ]
  },
  {
   "cell_type": "markdown",
   "id": "1a574de4",
   "metadata": {},
   "source": [
    "##### Lets check the user_type with highest members"
   ]
  },
  {
   "cell_type": "code",
   "execution_count": 47,
   "id": "34d97a50",
   "metadata": {},
   "outputs": [
    {
     "data": {
      "text/plain": [
       "Text(0.5, 1.0, 'Subscriber & Customer Count')"
      ]
     },
     "execution_count": 47,
     "metadata": {},
     "output_type": "execute_result"
    },
    {
     "data": {
      "image/png": "[encoded data removed]",
      "text/plain": [
       "<Figure size 288x360 with 1 Axes>"
      ]
     },
     "metadata": {
      "needs_background": "light"
     },
     "output_type": "display_data"
    }
   ],
   "source": [
    "plt.figure(figsize = (4,5))\n",
    "ax = snb.countplot(data = df2, x = 'user_type')\n",
    "plt.title('Subscriber & Customer Count')\n"
   ]
  },
  {
   "cell_type": "raw",
   "id": "99fb46cb",
   "metadata": {},
   "source": [
    "Its obviously shown that the Subscriber are the major users of the bike"
   ]
  },
  {
   "cell_type": "markdown",
   "id": "7dc4c171",
   "metadata": {},
   "source": [
    "# Bivariate Exploration"
   ]
  },
  {
   "cell_type": "markdown",
   "id": "06ddff1e",
   "metadata": {},
   "source": [
    "##### RELATIONSHIP Between USER TYPE & BIKE SHARE"
   ]
  },
  {
   "cell_type": "code",
   "execution_count": 48,
   "id": "c09e20bf",
   "metadata": {},
   "outputs": [
    {
     "data": {
      "image/png": "[encoded data removed]",
      "text/plain": [
       "<Figure size 432x288 with 1 Axes>"
      ]
     },
     "metadata": {
      "needs_background": "light"
     },
     "output_type": "display_data"
    }
   ],
   "source": [
    "#only Subscriber share bike with fewer numbers\n",
    "plt.title('RELATIONSHIP Between USER TYPE & BIKE SHARE')\n",
    "ax = snb.countplot(x = 'user_type', hue = 'bike_share_for_all_trip', data = df2 )"
   ]
  },
  {
   "cell_type": "raw",
   "id": "c9a2eb7b",
   "metadata": {},
   "source": [
    "# It is clearly shown that few numbers of subscrber among the bike users do share thier bike, Customer does not share bike"
   ]
  },
  {
   "cell_type": "markdown",
   "id": "bac7b11c",
   "metadata": {},
   "source": [
    "##### Lets check age & Gender Relationship"
   ]
  },
  {
   "cell_type": "code",
   "execution_count": 49,
   "id": "69d30bb7",
   "metadata": {},
   "outputs": [
    {
     "data": {
      "text/plain": [
       "Text(0.5, 1.0, 'Age & Gender Relationship')"
      ]
     },
     "execution_count": 49,
     "metadata": {},
     "output_type": "execute_result"
    },
    {
     "data": {
      "image/png": "[encoded data removed]",
      "text/plain": [
       "<Figure size 432x288 with 1 Axes>"
      ]
     },
     "metadata": {
      "needs_background": "light"
     },
     "output_type": "display_data"
    }
   ],
   "source": [
    "#lets check if which age group dominated the gender\n",
    "ax = snb.barplot(data = df2, y ='Age', x = 'member_gender')\n",
    "plt.title('Age & Gender Relationship')"
   ]
  },
  {
   "cell_type": "raw",
   "id": "7bd9090d",
   "metadata": {},
   "source": [
    "The gender almost shared the age equally, it is suprising that other gender has higher ages compared to other gender and all the gender are youth"
   ]
  },
  {
   "cell_type": "markdown",
   "id": "60078c7c",
   "metadata": {},
   "source": [
    "##### LETS CHECK CUSTOMER TYPE VS AGE RANGES"
   ]
  },
  {
   "cell_type": "code",
   "execution_count": 51,
   "id": "9a5308bc",
   "metadata": {},
   "outputs": [
    {
     "data": {
      "text/plain": [
       "Text(0.5, 1.0, 'CUSTOMER TYPE VS AGE RANGES')"
      ]
     },
     "execution_count": 51,
     "metadata": {},
     "output_type": "execute_result"
    },
    {
     "data": {
      "image/png": "[encoded data removed]",
      "text/plain": [
       "<Figure size 432x288 with 1 Axes>"
      ]
     },
     "metadata": {
      "needs_background": "light"
     },
     "output_type": "display_data"
    }
   ],
   "source": [
    "#lets check the ade ranges using user typer\n",
    "ax = snb.barplot(data = df2, y ='Age', x = 'user_type')\n",
    "plt.title('CUSTOMER TYPE VS AGE RANGES')"
   ]
  },
  {
   "cell_type": "raw",
   "id": "2eb378bf",
   "metadata": {},
   "source": [
    "Both the Users(Customer and Consumer)of the bike were youth. Elder people do not use bike"
   ]
  },
  {
   "cell_type": "markdown",
   "id": "66bf0b51",
   "metadata": {},
   "source": [
    "##### Lets check the frequency of the age of the bike users"
   ]
  },
  {
   "cell_type": "code",
   "execution_count": 52,
   "id": "6ece2caf",
   "metadata": {},
   "outputs": [
    {
     "data": {
      "text/plain": [
       "Text(0.5, 1.0, 'Age Distribution')"
      ]
     },
     "execution_count": 52,
     "metadata": {},
     "output_type": "execute_result"
    },
    {
     "data": {
      "image/png": "[encoded data removed]",
      "text/plain": [
       "<Figure size 432x288 with 1 Axes>"
      ]
     },
     "metadata": {
      "needs_background": "light"
     },
     "output_type": "display_data"
    }
   ],
   "source": [
    "#Lets check the frequency of the age\n",
    "plt.hist(x ='Age', data = df2, bins = 20)\n",
    "plt.title('Age Distribution')"
   ]
  },
  {
   "cell_type": "markdown",
   "id": "5825e20f",
   "metadata": {},
   "source": [
    "Age bracket of 25 to 50 are the major users of the bike, older people find it difficult to use the bike"
   ]
  },
  {
   "cell_type": "markdown",
   "id": "852d9017",
   "metadata": {},
   "source": [
    "# Multivirate Exploration"
   ]
  },
  {
   "cell_type": "markdown",
   "id": "fca24396",
   "metadata": {},
   "source": [
    "##### Lets Check the avearage hours of usertype"
   ]
  },
  {
   "cell_type": "code",
   "execution_count": 53,
   "id": "6b488d36",
   "metadata": {},
   "outputs": [
    {
     "data": {
      "text/plain": [
       "<seaborn.axisgrid.FacetGrid at 0x2389ede4b20>"
      ]
     },
     "execution_count": 53,
     "metadata": {},
     "output_type": "execute_result"
    },
    {
     "data": {
      "image/png": "[encoded data removed]",
      "text/plain": [
       "<Figure size 720x360 with 2 Axes>"
      ]
     },
     "metadata": {
      "needs_background": "light"
     },
     "output_type": "display_data"
    }
   ],
   "source": [
    "#customers has mean longer hours compare to subscribers like Other gender has the highest duration hours\n",
    "snb.catplot(x = 'member_gender', y = 'duration_hour', col ='user_type', data = df2, kind = 'bar')"
   ]
  },
  {
   "cell_type": "raw",
   "id": "de80e0b5",
   "metadata": {},
   "source": [
    "Customer has higher mean duration compared to Subcriber"
   ]
  },
  {
   "cell_type": "markdown",
   "id": "638123dd",
   "metadata": {},
   "source": [
    "##### Lets check Age and trip duration for each user type"
   ]
  },
  {
   "cell_type": "code",
   "execution_count": 54,
   "id": "9f8cea34",
   "metadata": {
    "scrolled": true
   },
   "outputs": [
    {
     "data": {
      "image/png": "[encoded data removed]",
      "text/plain": [
       "<Figure size 720x360 with 1 Axes>"
      ]
     },
     "metadata": {
      "needs_background": "light"
     },
     "output_type": "display_data"
    }
   ],
   "source": [
    "#older users spent short hours on ride why young users spent much hours and the customer type has the highest user duration\n",
    "df2 = df2.sample(174877, random_state = 1)\n",
    "plt.figure(figsize = [10,5]);\n",
    "user_type_markers = [['Customer', 'o'],['Subscriber', 'x']]\n",
    "for cat, marker in user_type_markers:\n",
    "    df_cat = df2[df2['user_type'] == cat]\n",
    "    plt.scatter(data = df_cat, x = 'Age', y = 'duration_hour', alpha = 2/20);\n",
    "    plt.legend(['Customer', 'Subscriber']);\n",
    "    plt.xlabel('Age');\n",
    "    plt.ylabel('Duration in hours');\n",
    "    plt.title('Age and trip duration for each user type');"
   ]
  },
  {
   "cell_type": "raw",
   "id": "509d7842",
   "metadata": {},
   "source": [
    "# Subscriber uses bike more than Customer, subscriber have longer durations compared to customer.\n",
    "Young people spent long hours duration on bike compared to older people"
   ]
  },
  {
   "cell_type": "markdown",
   "id": "5e7f243c",
   "metadata": {},
   "source": [
    "#### Lets check the user type with highest gender count & duration"
   ]
  },
  {
   "cell_type": "code",
   "execution_count": 55,
   "id": "957e6d0b",
   "metadata": {},
   "outputs": [
    {
     "data": {
      "image/png": "[encoded data removed]",
      "text/plain": [
       "<Figure size 720x576 with 1 Axes>"
      ]
     },
     "metadata": {
      "needs_background": "light"
     },
     "output_type": "display_data"
    }
   ],
   "source": [
    "fig = plt.figure(figsize = [10,8])\n",
    "ax = snb.pointplot(data = df2, x = 'member_gender', y = 'duration_hour', lines = '',hue = 'user_type', dodge = 0.0)\n",
    "ax.set_yticklabels([], minor = True)\n",
    "plt.title('GENDER RELATIONSHIP BETWEEN USER TYPE & DURATION')\n",
    "plt.show()"
   ]
  },
  {
   "cell_type": "markdown",
   "id": "e7b9d2d7",
   "metadata": {},
   "source": [
    "For both customer and subscriber, Other gender spent more hours on trip compared to female and male and customer spend more duration on trip"
   ]
  },
  {
   "cell_type": "markdown",
   "id": "f71da5aa",
   "metadata": {},
   "source": [
    "##### Lets check which of the gender has highest bike sharing count & duration"
   ]
  },
  {
   "cell_type": "code",
   "execution_count": 56,
   "id": "aed7b4ce",
   "metadata": {},
   "outputs": [
    {
     "data": {
      "image/png": "[encoded data removed]",
      "text/plain": [
       "<Figure size 720x576 with 1 Axes>"
      ]
     },
     "metadata": {
      "needs_background": "light"
     },
     "output_type": "display_data"
    }
   ],
   "source": [
    "fig = plt.figure(figsize = [10,8])\n",
    "ax = snb.pointplot(data = df2, x = 'member_gender', y = 'duration_hour', lines = '',hue = 'bike_share_for_all_trip', dodge = 0.4)\n",
    "ax.set_yticklabels([], minor = True)\n",
    "plt.title('GENDER RELATIONSHIP WITH BIKE SHARE & DURATION')\n",
    "plt.show()"
   ]
  },
  {
   "cell_type": "markdown",
   "id": "57f3f5e2",
   "metadata": {},
   "source": [
    "The other gender both in duration & bike share  spent more hours on trip followed by female and male"
   ]
  },
  {
   "cell_type": "markdown",
   "id": "0b4c49ef",
   "metadata": {},
   "source": [
    "# CONCLUSSION\n",
    "Judging from all the analysis,\n",
    "Customers have longer duration trip compared to subscriber\n",
    "it is only subscriber that shared bike\n",
    "The most bike users are younger people\n",
    "Most trips were taken on tuesday & thursday\n",
    "weekend records low patronage\n",
    "feburary 2019 records the highest patronage\n",
    "Male were the most user of the bike\n",
    "85% percent of the trip were taken by subscibers\n",
    "However, the angle of view of the dataset are sky limited, more exploration can still be done"
   ]
  },
  {
   "cell_type": "code",
   "execution_count": 57,
   "id": "5bda8ffb",
   "metadata": {
    "collapsed": true
   },
   "outputs": [
    {
     "name": "stderr",
     "output_type": "stream",
     "text": [
      "[NbConvertApp] Converting notebook project3-Copy2.ipynb to slides\n",
      "[NbConvertApp] Writing 884527 bytes to project3-Copy2.slides.html\n",
      "[NbConvertApp] Redirecting reveal.js requests to https://cdnjs.cloudflare.com/ajax/libs/reveal.js/3.5.0\n",
      "Traceback (most recent call last):\n",
      "  File \"c:\\users\\user\\appdata\\local\\programs\\python\\python39\\lib\\runpy.py\", line 197, in _run_module_as_main\n",
      "    return _run_code(code, main_globals, None,\n",
      "  File \"c:\\users\\user\\appdata\\local\\programs\\python\\python39\\lib\\runpy.py\", line 87, in _run_code\n",
      "    exec(code, run_globals)\n",
      "  File \"C:\\Users\\user\\AppData\\Local\\Programs\\Python\\Python39\\Scripts\\jupyter-nbconvert.EXE\\__main__.py\", line 7, in <module>\n",
      "  File \"c:\\users\\user\\appdata\\local\\programs\\python\\python39\\lib\\site-packages\\jupyter_core\\application.py\", line 254, in launch_instance\n",
      "    return super(JupyterApp, cls).launch_instance(argv=argv, **kwargs)\n",
      "  File \"c:\\users\\user\\appdata\\local\\programs\\python\\python39\\lib\\site-packages\\traitlets\\config\\application.py\", line 845, in launch_instance\n",
      "    app.start()\n",
      "  File \"c:\\users\\user\\appdata\\local\\programs\\python\\python39\\lib\\site-packages\\nbconvert\\nbconvertapp.py\", line 346, in start\n",
      "    self.convert_notebooks()\n",
      "  File \"c:\\users\\user\\appdata\\local\\programs\\python\\python39\\lib\\site-packages\\nbconvert\\nbconvertapp.py\", line 518, in convert_notebooks\n",
      "    self.convert_single_notebook(notebook_filename)\n",
      "  File \"c:\\users\\user\\appdata\\local\\programs\\python\\python39\\lib\\site-packages\\nbconvert\\nbconvertapp.py\", line 485, in convert_single_notebook\n",
      "    self.postprocess_single_notebook(write_results)\n",
      "  File \"c:\\users\\user\\appdata\\local\\programs\\python\\python39\\lib\\site-packages\\nbconvert\\nbconvertapp.py\", line 457, in postprocess_single_notebook\n",
      "    self.postprocessor(write_results)\n",
      "  File \"c:\\users\\user\\appdata\\local\\programs\\python\\python39\\lib\\site-packages\\nbconvert\\postprocessors\\base.py\", line 28, in __call__\n",
      "    self.postprocess(input)\n",
      "  File \"c:\\users\\user\\appdata\\local\\programs\\python\\python39\\lib\\site-packages\\nbconvert\\postprocessors\\serve.py\", line 90, in postprocess\n",
      "    http_server.listen(self.port, address=self.ip)\n",
      "  File \"c:\\users\\user\\appdata\\local\\programs\\python\\python39\\lib\\site-packages\\tornado\\tcpserver.py\", line 151, in listen\n",
      "    sockets = bind_sockets(port, address=address)\n",
      "  File \"c:\\users\\user\\appdata\\local\\programs\\python\\python39\\lib\\site-packages\\tornado\\netutil.py\", line 161, in bind_sockets\n",
      "    sock.bind(sockaddr)\n",
      "OSError: [WinError 10048] Only one usage of each socket address (protocol/network address/port) is normally permitted\n"
     ]
    }
   ],
   "source": [
    "!jupyter nbconvert project3-Copy2.ipynb --to slides --post serve --no-input --no-prompt"
   ]
  },
  {
   "cell_type": "code",
   "execution_count": null,
   "id": "704ed1d4",
   "metadata": {},
   "outputs": [],
   "source": []
  }
 ],
 "metadata": {
  "kernelspec": {
   "display_name": "Python 3 (ipykernel)",
   "language": "python",
   "name": "python3"
  },
  "language_info": {
   "codemirror_mode": {
    "name": "ipython",
    "version": 3
   },
   "file_extension": ".py",
   "mimetype": "text/x-python",
   "name": "python",
   "nbconvert_exporter": "python",
   "pygments_lexer": "ipython3",
   "version": "3.9.5"
  }
 },
 "nbformat": 4,
 "nbformat_minor": 5
}
